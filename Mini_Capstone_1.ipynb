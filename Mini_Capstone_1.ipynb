{
  "nbformat": 4,
  "nbformat_minor": 0,
  "metadata": {
    "colab": {
      "name": "Mini-Capstone 1.ipynb",
      "provenance": [],
      "collapsed_sections": [],
      "include_colab_link": true
    },
    "kernelspec": {
      "name": "python3",
      "display_name": "Python 3"
    }
  },
  "cells": [
    {
      "cell_type": "markdown",
      "metadata": {
        "id": "view-in-github",
        "colab_type": "text"
      },
      "source": [
        "<a href=\"https://colab.research.google.com/github/knazran/python-for-analytics/blob/master/Mini_Capstone_1.ipynb\" target=\"_parent\"><img src=\"https://colab.research.google.com/assets/colab-badge.svg\" alt=\"Open In Colab\"/></a>"
      ]
    },
    {
      "cell_type": "markdown",
      "metadata": {
        "id": "K3ULcnGYHsn4",
        "colab_type": "text"
      },
      "source": [
        "# Introducing the Mini-Capstone 1\n",
        "\n",
        "This is a mini-capstone to bring together all the programming concepts you learned in Python to build a simple program. \n",
        "\n",
        "## About the mini-capstone\n",
        "\n",
        "Difficulty is adaptive and the capstone is available in 3 different levels. Do try your best and build it up!\n"
      ]
    },
    {
      "cell_type": "markdown",
      "metadata": {
        "id": "11Kc6mY3H9hz",
        "colab_type": "text"
      },
      "source": [
        "## Background\n",
        "\n",
        "The office cafe is trying to innovate and improve their services by introducing a self-service system to order food and drinks online. \n",
        "\n",
        "In order to tap into the bright people in the organisation to bring a positive impact, you are tasked to build the system.\n",
        "\n",
        "The system should allow:\n",
        "\n",
        "\n",
        "*   Users to state their names for their order\n",
        "*   Browse through menu\n",
        "*   Indicate their order\n",
        "\n"
      ]
    },
    {
      "cell_type": "markdown",
      "metadata": {
        "id": "xKj4zQmLKCcL",
        "colab_type": "text"
      },
      "source": [
        "### Level 1:\n",
        "\n",
        "The system should be able to:\n",
        "1.   Ask the user for their name and greet them.\n",
        "2.   Print `\"The menu for today is:\"` and show the menu to the user and ask for their input.\n",
        "3.   Check if their order exists on the menu. If not, print \"We do not have that, please order again\", print the menu and ask again. (Repeat step 2)\n",
        "4.   Inform to the user that their order has been received with \"Thank you {name}, your order has been received\"\n",
        "\n",
        "Ask our instructors to validate your program once done.\n"
      ]
    },
    {
      "cell_type": "code",
      "metadata": {
        "id": "sAxLfYfjFCje",
        "colab_type": "code",
        "colab": {}
      },
      "source": [
        "# Start the program here:\n",
        "def cafeOrderingSystem():\n",
        "  print(\"Welcome to Dinar Matahari!\")\n",
        "  name = greetUser()\n",
        "  user_order = askForOrders()\n",
        "  orderReceived(name, user_order)\n",
        "\n",
        "# TODO\n",
        "# This function ask for the user's name\n",
        "# Will return the user's name as a value\n",
        "def greetUser():\n",
        "  return\n",
        "\n",
        "#TODO\n",
        "# This function will:\n",
        "# 1) Print \"The menu for today is:\"\n",
        "# 2) Print the menu items, one by one.\n",
        "# 3) Ask for the user input, user have to type the menu item they want\n",
        "# 4) Check if user input exists in the menu\n",
        "# 5) if exists, return the selected menu item\n",
        "# 6) if doesn't exists, print \"We do not have that, please order again\" and repeat from step 2\n",
        "def askForOrders():\n",
        "  menu = [\n",
        "          \"Nasi Ayam\",\n",
        "          \"Mee Goreng Mamak\",\n",
        "          \"Teriyaki Chicken Donburi\",\n",
        "          \"Bulgogi Bento\",\n",
        "          \"Pasta Alfredo\",\n",
        "          \"Vegetarian Wrap\",\n",
        "          \"Teh Tarik\",\n",
        "          \"Orange Juice\",\n",
        "          \"Iced Latte\",\n",
        "          \"Premium Coffee\",\n",
        "          ]\n",
        "  return\n",
        "\n",
        "#TODO\n",
        "# Print \"Thank you {name}, your order of {order} has been received\"\n",
        "def orderReceived(name, order):\n",
        "  return"
      ],
      "execution_count": 0,
      "outputs": []
    },
    {
      "cell_type": "code",
      "metadata": {
        "id": "4VN9ypfeK6vx",
        "colab_type": "code",
        "colab": {}
      },
      "source": [
        "# This is the master program.\n",
        "cafeOrderingSystem()"
      ],
      "execution_count": 0,
      "outputs": []
    },
    {
      "cell_type": "markdown",
      "metadata": {
        "id": "dutONCgsTJeH",
        "colab_type": "text"
      },
      "source": [
        "### Level 2:\n",
        "\n",
        "For Level 2, use your Level 1 program with these changes:\n",
        "\n",
        "Change `askForOrders()` function to:\n",
        "1.   Once ordered, prompt if they would like to order more items\n",
        "2.   Calculate the cost of their orders\n",
        "3.   Inform to the user that their order has been received along with the cost\n",
        "\n",
        "Ask our instructors to validate your program once done."
      ]
    },
    {
      "cell_type": "code",
      "metadata": {
        "id": "H5KLHwqZLcO5",
        "colab_type": "code",
        "colab": {}
      },
      "source": [
        "def cafeOrderingSystemLvl2():\n",
        "  print(\"Welcome to Dinar Matahari!\")\n",
        "  \n",
        "  name = greetUser() # Call your Level 1 code\n",
        "  user_orders = askForOrdersLvl2()\n",
        "  order_cost = calculateCost(user_orders)\n",
        "  orderReceivedLvl2(name, order_cost)\n",
        "\n",
        "#TODO\n",
        "# This function will:\n",
        "# 1) Similar to Level 1: Print the menu, ask for user input, check if order exists.\n",
        "# 2) Once ordered, prompt \"Would you like to order more items?\". if 'yes', repeat step 2. Else, continue\n",
        "# 3) Returns a list of ordered menu items\n",
        "def askForOrdersLvl2():\n",
        "  # use this to store ordered menu item\n",
        "  ordered_items = []\n",
        "\n",
        "  print(\"Would you like to see the food menu or the drink menu?\")\n",
        "  # Tip: You can actually call your level 1 askForOrders() function here\n",
        "  return ordered_items\n",
        "\n",
        "#TODO\n",
        "# This function will:\n",
        "# 1) Iterate through user_orders \n",
        "# 2) Check the items with menu_cost\n",
        "# 3) Add up the cost together\n",
        "# 4) returns total cost of orders\n",
        "def calculateCost(user_orders):\n",
        "  menu_cost = {\n",
        "      \"Nasi Ayam\" : 8.0,\n",
        "      \"Mee Goreng Mamak\": 6.5,\n",
        "      \"Teriyaki Chicken Donburi\": 13.8,\n",
        "      \"Bulgogi Bento\": 15.7,\n",
        "      \"Pasta Alfredo\": 11.2,\n",
        "      \"Vegetarian Wrap\": 8.5,\n",
        "      \"Teh Tarik\" : 1.5,\n",
        "      \"Orange Juice\": 3.6,\n",
        "      \"Iced Latte\": 2.1,\n",
        "      \"Premium Coffee\" : 3.6,\n",
        "  }\n",
        "\n",
        "  total_cost = 0\n",
        "  return total_cost\n",
        "\n",
        "#TODO\n",
        "# Print out \"Thank you {name}, your order has been received. The cost is RM {cost}\"\n",
        "def orderReceivedLvl2(name, order_cost):\n",
        "  return"
      ],
      "execution_count": 0,
      "outputs": []
    },
    {
      "cell_type": "code",
      "metadata": {
        "id": "dDrfv0toUjXl",
        "colab_type": "code",
        "colab": {}
      },
      "source": [
        "# This is the master program.\n",
        "cafeOrderingSystemLvl2()"
      ],
      "execution_count": 0,
      "outputs": []
    },
    {
      "cell_type": "markdown",
      "metadata": {
        "id": "xhBPm-rAdVBe",
        "colab_type": "text"
      },
      "source": [
        "### Level 3:\n",
        "\n",
        "For Level 3, use your Level 2 program with these changes:\n",
        "\n",
        "Change `calculateCost()` function to:\n",
        "1.   Check if the orders have 1 food and 1 drink item\n",
        "2.   The total cost for a pair of food and drink item will have a 10% discount\n",
        "\n",
        "Inform the user of their cost and their discounts amount\n",
        "\n",
        "Ask our instructors to validate your program once done."
      ]
    },
    {
      "cell_type": "code",
      "metadata": {
        "id": "QCM_q1RNeV8Q",
        "colab_type": "code",
        "colab": {}
      },
      "source": [
        "def cafeOrderingSystemLvl3():\n",
        "  print(\"Welcome to Dinar Matahari!\")\n",
        "  \n",
        "  name = greetUser() # Call your Level 1 code\n",
        "  user_orders = askForOrdersLvl2() # Call your Level 2 code\n",
        "  order_cost = calculateCostLvl3(user_orders)\n",
        "  orderReceivedLvl3(name, order_cost)\n",
        "\n",
        "def calculateCostLvl3(user_orders):\n",
        "  menu_cost = {\n",
        "      \"Nasi Ayam\" : 8.0,\n",
        "      \"Mee Goreng Mamak\": 6.5,\n",
        "      \"Teriyaki Chicken Donburi\": 13.8,\n",
        "      \"Bulgogi Bento\": 15.7,\n",
        "      \"Pasta Alfredo\": 11.2,\n",
        "      \"Vegetarian Wrap\": 8.5,\n",
        "      \"Teh Tarik\" : 1.5,\n",
        "      \"Orange Juice\": 3.6,\n",
        "      \"Iced Latte\": 2.1,\n",
        "      \"Premium Coffee\" : 3.6,\n",
        "  }\n",
        "\n",
        "  # Define your food and drink lists yourself. Not judgement here\n",
        "\n",
        "  total_cost = 0\n",
        "\n",
        "  return order_cost, discount_amount # Did you know you can return more than 1 value?"
      ],
      "execution_count": 0,
      "outputs": []
    },
    {
      "cell_type": "code",
      "metadata": {
        "id": "otJGQI1ceaOi",
        "colab_type": "code",
        "colab": {}
      },
      "source": [
        "# This is the master program.\n",
        "cafeOrderingSystemLvl3()"
      ],
      "execution_count": 0,
      "outputs": []
    }
  ]
}