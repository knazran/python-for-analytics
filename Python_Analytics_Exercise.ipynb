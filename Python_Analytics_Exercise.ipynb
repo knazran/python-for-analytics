{
  "nbformat": 4,
  "nbformat_minor": 0,
  "metadata": {
    "colab": {
      "name": "Python Analytics Exercise.ipynb",
      "provenance": [],
      "collapsed_sections": [],
      "include_colab_link": true
    },
    "kernelspec": {
      "name": "python3",
      "display_name": "Python 3"
    }
  },
  "cells": [
    {
      "cell_type": "markdown",
      "metadata": {
        "id": "view-in-github",
        "colab_type": "text"
      },
      "source": [
        "<a href=\"https://colab.research.google.com/github/knazran/python-for-analytics/blob/master/Python_Analytics_Exercise.ipynb\" target=\"_parent\"><img src=\"https://colab.research.google.com/assets/colab-badge.svg\" alt=\"Open In Colab\"/></a>"
      ]
    },
    {
      "cell_type": "markdown",
      "metadata": {
        "id": "QD4Sxv_qyEEu",
        "colab_type": "text"
      },
      "source": [
        "# Welcome to Python for Analytics Exercise!\n",
        "\n",
        "As mentioned earlier, Python for Analytics is mostly done by utilising packages and methods other people have already created.\n",
        "\n",
        "Here, we will learn how to use Pandas packages for our data wrangling and analysis, and the Matplotlib package for our visualisation needs.\n"
      ]
    },
    {
      "cell_type": "markdown",
      "metadata": {
        "id": "j35HbzSryzCv",
        "colab_type": "text"
      },
      "source": [
        "To use any packages in Python, you need to `import` it first.\n",
        "\n",
        "This is similar to checking out a reference book from the library and into our program so our programs know where to refer to.\n",
        "\n",
        "When importing, you can also assign a name to the package using `as`. This makes typing easier. Rather than repeating `pandas` over and over, we type `pd` instead."
      ]
    },
    {
      "cell_type": "code",
      "metadata": {
        "id": "I8GekoKlx_gN",
        "colab_type": "code",
        "colab": {}
      },
      "source": [
        "# Run this block\n",
        "\n",
        "import pandas as pd\n",
        "import matplotlib.pyplot as plt\n",
        "\n",
        "% matplotlib inline"
      ],
      "execution_count": 0,
      "outputs": []
    },
    {
      "cell_type": "markdown",
      "metadata": {
        "id": "N3f4aJGf0Fiy",
        "colab_type": "text"
      },
      "source": [
        "### Simple Analytical Steps\n",
        "\n",
        "For simple analytics, the steps are:\n",
        "\n",
        "\n",
        "1.   Load Data\n",
        "2.   Describe Data\n",
        "3.   Slice and Manipulate Data\n",
        "4.   Grouping and Aggregating Data\n",
        "5.   Visualise Data\n",
        "\n",
        "We will go through the common methods in pandas to achieve each of the steps here."
      ]
    },
    {
      "cell_type": "markdown",
      "metadata": {
        "id": "zP9S7m2x0c8R",
        "colab_type": "text"
      },
      "source": [
        "# Load Data\n",
        "\n",
        "The most common data input in pandas is in CSV format. To properly leverage on the power of pandas, these CSVs will have to be loaded in a pandas `DataFrame`\n",
        "\n",
        "To load csv into pandas `DataFrame`, use the `read_csv()` method.\n",
        "\n",
        "For the purpose of the exercise, let's load the California housing data. Learn more here: https://developers.google.com/machine-learning/crash-course/california-housing-data-description"
      ]
    },
    {
      "cell_type": "code",
      "metadata": {
        "id": "wuzBovctzOs6",
        "colab_type": "code",
        "colab": {}
      },
      "source": [
        "df_housing = pd.read_csv('/content/sample_data/california_housing_train.csv')"
      ],
      "execution_count": 0,
      "outputs": []
    },
    {
      "cell_type": "code",
      "metadata": {
        "id": "wXIS4fbk2Epw",
        "colab_type": "code",
        "colab": {}
      },
      "source": [
        "df_housing"
      ],
      "execution_count": 0,
      "outputs": []
    },
    {
      "cell_type": "markdown",
      "metadata": {
        "id": "kCE5MFAW2SzO",
        "colab_type": "text"
      },
      "source": [
        "# Describe Data\n",
        "\n",
        "Once data is loaded in a dataframe, the first order of business is to understand data, it's shapes and characteristics.\n",
        "\n"
      ]
    },
    {
      "cell_type": "markdown",
      "metadata": {
        "id": "ZYG_vcbJ2qDK",
        "colab_type": "text"
      },
      "source": [
        "### Dataframe shape\n",
        "\n",
        "To check the shape of the DataFrame table, use `.shape`\n",
        "\n",
        "**Challenge Question**\n",
        "\n",
        "Why `.shape` does not have a ()? Is `.shape` a method? a function? Or something else?"
      ]
    },
    {
      "cell_type": "code",
      "metadata": {
        "id": "LpQ29BxH2Gf_",
        "colab_type": "code",
        "colab": {}
      },
      "source": [
        "df_housing.shape"
      ],
      "execution_count": 0,
      "outputs": []
    },
    {
      "cell_type": "markdown",
      "metadata": {
        "id": "JmZc8mIl3V5W",
        "colab_type": "text"
      },
      "source": [
        "### Dataframe Column Names\n",
        "\n",
        "To check the column names of the DataFrame use `.columns`\n"
      ]
    },
    {
      "cell_type": "code",
      "metadata": {
        "id": "PnH64ko-3bu8",
        "colab_type": "code",
        "colab": {}
      },
      "source": [
        "df_housing.columns"
      ],
      "execution_count": 0,
      "outputs": []
    },
    {
      "cell_type": "markdown",
      "metadata": {
        "id": "TzCQZv0Z4SHt",
        "colab_type": "text"
      },
      "source": [
        "### Inspect Rows\n",
        "\n",
        "To check the first 'n' rows of the DataFrame use `.head()` method\n",
        "\n",
        "To check the last 'n', use `.tail()` instead\n"
      ]
    },
    {
      "cell_type": "code",
      "metadata": {
        "id": "WLfAIqSG4gnj",
        "colab_type": "code",
        "colab": {}
      },
      "source": [
        "df_housing.head(10)"
      ],
      "execution_count": 0,
      "outputs": []
    },
    {
      "cell_type": "markdown",
      "metadata": {
        "id": "RDWDIouO3I-7",
        "colab_type": "text"
      },
      "source": [
        "### Descriptive Statistics\n",
        "\n",
        "Its good to run descriptive statistics on the data as a sanity check.\n",
        "\n",
        "Use the `.describe()` method\n"
      ]
    },
    {
      "cell_type": "code",
      "metadata": {
        "id": "QciX5ORO2vlw",
        "colab_type": "code",
        "colab": {}
      },
      "source": [
        "df_housing.describe()"
      ],
      "execution_count": 0,
      "outputs": []
    },
    {
      "cell_type": "markdown",
      "metadata": {
        "id": "yRcsw2po4x5u",
        "colab_type": "text"
      },
      "source": [
        "### Selecting and Zooming Into a Column\n",
        "\n",
        "At times, we would want to look into a specific column in the data.\n",
        "\n",
        "To access data in a column, we can use the square bracket notation on the dataframe, similar to access values in a dictionary\n",
        "\n",
        "*Note: Recall that columns of data in a Dataframe are Series.*"
      ]
    },
    {
      "cell_type": "code",
      "metadata": {
        "id": "xO71-p923P6j",
        "colab_type": "code",
        "colab": {}
      },
      "source": [
        "# Access the median_house_value column\n",
        "# Column name is a string! Do not forget that\n",
        "df_housing['median_house_value']"
      ],
      "execution_count": 0,
      "outputs": []
    },
    {
      "cell_type": "markdown",
      "metadata": {
        "id": "yEk3sfY658jY",
        "colab_type": "text"
      },
      "source": [
        "### Unique values\n",
        "\n",
        "From a column of data, we can check for unique values and the count of values\n",
        "\n",
        "To find unique values in a Series, use the `.unique()` method\n",
        "\n",
        "This is a one of the method to check for duplicates and ensure uniqueness"
      ]
    },
    {
      "cell_type": "code",
      "metadata": {
        "id": "By0ydboU5GNb",
        "colab_type": "code",
        "colab": {}
      },
      "source": [
        "len(df_housing['total_rooms'].unique())"
      ],
      "execution_count": 0,
      "outputs": []
    },
    {
      "cell_type": "markdown",
      "metadata": {
        "id": "yiTdbo2K6Qb_",
        "colab_type": "text"
      },
      "source": [
        "To get counts of values, use the `value_counts()` methods"
      ]
    },
    {
      "cell_type": "code",
      "metadata": {
        "id": "JYruHj_76K2y",
        "colab_type": "code",
        "colab": {}
      },
      "source": [
        "df_housing['total_rooms'].value_counts()"
      ],
      "execution_count": 0,
      "outputs": []
    },
    {
      "cell_type": "markdown",
      "metadata": {
        "id": "ktWuGnPe7qsh",
        "colab_type": "text"
      },
      "source": [
        "### Missing Values\n",
        "\n",
        "As sanity check as well, it is good to check for any missing data.\n",
        "\n",
        "Missing data will commonly be read as 'NaN' by pandas. To find them, use the `isna()` method, followed by a `.sum()` to sum all the counts together."
      ]
    },
    {
      "cell_type": "code",
      "metadata": {
        "id": "SVFwHtxK6V5_",
        "colab_type": "code",
        "colab": {}
      },
      "source": [
        "df_housing.isna().sum()"
      ],
      "execution_count": 0,
      "outputs": []
    },
    {
      "cell_type": "markdown",
      "metadata": {
        "id": "QZfeZAq483oC",
        "colab_type": "text"
      },
      "source": [
        "# Slice and Manipulate Data\n",
        "\n",
        "The next step after understanding the high-level characteristic of our data, we will then slice and manipulate data in order to find out interesting nuggets of insights."
      ]
    },
    {
      "cell_type": "markdown",
      "metadata": {
        "id": "vb2ckkvG9Jma",
        "colab_type": "text"
      },
      "source": [
        "### Slicing Data based on columns\n",
        "\n",
        "To obtain a subset of columns from a dataframes, we can pass a list into the square bracket notation to access values"
      ]
    },
    {
      "cell_type": "code",
      "metadata": {
        "id": "mi2F_IpQ7-v1",
        "colab_type": "code",
        "colab": {}
      },
      "source": [
        "# Slicing dataframe based on a list of columns\n",
        "targeted_columns = ['households', 'median_income', 'median_house_value']\n",
        "df_housing[targeted_columns]"
      ],
      "execution_count": 0,
      "outputs": []
    },
    {
      "cell_type": "markdown",
      "metadata": {
        "id": "Hmfc9cmp-se_",
        "colab_type": "text"
      },
      "source": [
        "Alternatively (and more elegantly), use the `.filter()` method\n",
        "\n"
      ]
    },
    {
      "cell_type": "code",
      "metadata": {
        "id": "wSll6-fo-qVi",
        "colab_type": "code",
        "colab": {}
      },
      "source": [
        "df_housing.filter(targeted_columns)"
      ],
      "execution_count": 0,
      "outputs": []
    },
    {
      "cell_type": "markdown",
      "metadata": {
        "id": "VmU8eXzY-3Ou",
        "colab_type": "text"
      },
      "source": [
        "### Slicing data based on rows\n",
        "\n",
        "At times, we would want to inspect data based on a certain row such as 'Rows where Column A is less than 5 and Column B is True'\n",
        "\n",
        "To do that, we pass a conditional into the square bracket notation"
      ]
    },
    {
      "cell_type": "code",
      "metadata": {
        "id": "4DNk6Igk-0qb",
        "colab_type": "code",
        "colab": {}
      },
      "source": [
        "conditional = (df_housing['median_house_value'] > 100000)\n",
        "df_housing[conditional]"
      ],
      "execution_count": 0,
      "outputs": []
    },
    {
      "cell_type": "code",
      "metadata": {
        "id": "vZKkw5Ba_y7X",
        "colab_type": "code",
        "colab": {}
      },
      "source": [
        "# Same effect\n",
        "df_housing[(df_housing['median_house_value'] > 100000)]"
      ],
      "execution_count": 0,
      "outputs": []
    },
    {
      "cell_type": "markdown",
      "metadata": {
        "id": "j4OPpqHKA4TQ",
        "colab_type": "text"
      },
      "source": [
        "Multiple conditionals can be passed for more complex criterias.\n",
        "\n",
        "However, it does not support `and` and `or`. Substitute `and` with `&`, `or` with `|`"
      ]
    },
    {
      "cell_type": "code",
      "metadata": {
        "id": "QkLSsBHmAr_r",
        "colab_type": "code",
        "colab": {}
      },
      "source": [
        "df_housing[(df_housing['median_house_value'] > 100000) & (df_housing['households'] < 200)]"
      ],
      "execution_count": 0,
      "outputs": []
    },
    {
      "cell_type": "markdown",
      "metadata": {
        "id": "8393_ZEyAXr2",
        "colab_type": "text"
      },
      "source": [
        "Alternatively (and again, more elegantly), use the `.query()` method\n",
        "\n",
        "Note: `.query()` method is very sensitive to the string you are passing. "
      ]
    },
    {
      "cell_type": "code",
      "metadata": {
        "id": "r46KEwwhAUZO",
        "colab_type": "code",
        "colab": {}
      },
      "source": [
        "df_housing.query(\"median_house_value > 100000\")"
      ],
      "execution_count": 0,
      "outputs": []
    },
    {
      "cell_type": "code",
      "metadata": {
        "id": "gOk9dpvWAnzj",
        "colab_type": "code",
        "colab": {}
      },
      "source": [
        "# Multiple conditionals\n",
        "df_housing.query(\"(median_house_value > 100000) & (households < 200)\")"
      ],
      "execution_count": 0,
      "outputs": []
    },
    {
      "cell_type": "markdown",
      "metadata": {
        "id": "v4PVbQ0wBd5F",
        "colab_type": "text"
      },
      "source": [
        "### Creating New Columns\n",
        "\n",
        "To create a new column in a dataframe, it is similar to assigning a new key-value pair into a dictionary"
      ]
    },
    {
      "cell_type": "code",
      "metadata": {
        "id": "61KQx6NIC1cq",
        "colab_type": "code",
        "colab": {}
      },
      "source": [
        "df_housing['new_column'] = 0\n",
        "df_housing"
      ],
      "execution_count": 0,
      "outputs": []
    },
    {
      "cell_type": "markdown",
      "metadata": {
        "id": "0-HYZNXEDAJO",
        "colab_type": "text"
      },
      "source": [
        "You can assign a list or a Pandas Series as values for the new columns"
      ]
    },
    {
      "cell_type": "code",
      "metadata": {
        "id": "SMlNBdi-C5z4",
        "colab_type": "code",
        "colab": {}
      },
      "source": [
        "import random\n",
        "list_of_random_values = [random.randint(0, 100) for x in range(0, df_housing.shape[0])] # Don't worry about this\n",
        "\n",
        "df_housing['random_column'] = list_of_random_values\n",
        "df_housing"
      ],
      "execution_count": 0,
      "outputs": []
    },
    {
      "cell_type": "markdown",
      "metadata": {
        "id": "oGXOAi3AFlSt",
        "colab_type": "text"
      },
      "source": [
        "You can also create columns from results created by other columns"
      ]
    },
    {
      "cell_type": "code",
      "metadata": {
        "id": "yba1FVr_Fs2e",
        "colab_type": "code",
        "colab": {}
      },
      "source": [
        "df_housing['average_people_per_household'] = df_housing['population'] / df_housing['households']\n",
        "df_housing"
      ],
      "execution_count": 0,
      "outputs": []
    },
    {
      "cell_type": "markdown",
      "metadata": {
        "id": "un1U94QiHxDo",
        "colab_type": "text"
      },
      "source": [
        "**A bit more advanced**\n",
        "\n",
        "If you want your new column to be created from the results of a function, use `.apply()` method\n"
      ]
    },
    {
      "cell_type": "code",
      "metadata": {
        "id": "uN7svml0IWRY",
        "colab_type": "code",
        "colab": {}
      },
      "source": [
        "import random\n",
        "\n",
        "# Function that adds an input number and a random number together and return the sum\n",
        "def addMagicNumber(number):\n",
        "  return number + random.randint(0,500)\n",
        "\n",
        "df_housing['household_with_randomNum'] = df_housing['households'].apply(addMagicNumber)\n",
        "df_housing"
      ],
      "execution_count": 0,
      "outputs": []
    },
    {
      "cell_type": "markdown",
      "metadata": {
        "id": "OpPXDou_IP-F",
        "colab_type": "text"
      },
      "source": [
        ""
      ]
    },
    {
      "cell_type": "markdown",
      "metadata": {
        "id": "dKJCsRotFE6U",
        "colab_type": "text"
      },
      "source": [
        "Alternatively, you can also can use the `.assign()` method to create new columns.\n"
      ]
    },
    {
      "cell_type": "code",
      "metadata": {
        "id": "5e3uI-CPBT3K",
        "colab_type": "code",
        "colab": {}
      },
      "source": [
        "df_housing = df_housing.assign(Test = 0, No = list_of_random_values)\n",
        "df_housing"
      ],
      "execution_count": 0,
      "outputs": []
    },
    {
      "cell_type": "code",
      "metadata": {
        "id": "4hDFyw8fOX8n",
        "colab_type": "code",
        "colab": {
          "base_uri": "https://localhost:8080/",
          "height": 297
        },
        "outputId": "6ff85fe9-cd93-4d5d-d356-5a15479eb414"
      },
      "source": [
        "import seaborn as sns\n",
        "\n",
        "sns.distplot(df_housing['housing_median_age'])"
      ],
      "execution_count": 72,
      "outputs": [
        {
          "output_type": "execute_result",
          "data": {
            "text/plain": [
              "<matplotlib.axes._subplots.AxesSubplot at 0x7f32c1f1e5c0>"
            ]
          },
          "metadata": {
            "tags": []
          },
          "execution_count": 72
        },
        {
          "output_type": "display_data",
          "data": {
            "image/png": "[encoded data removed]",
            "text/plain": [
              "<Figure size 432x288 with 1 Axes>"
            ]
          },
          "metadata": {
            "tags": []
          }
        }
      ]
    },
    {
      "cell_type": "markdown",
      "metadata": {
        "id": "1OsL88RVFcOe",
        "colab_type": "text"
      },
      "source": [
        "**Challenge Question**\n",
        "\n",
        "How do you drop columns then?"
      ]
    },
    {
      "cell_type": "markdown",
      "metadata": {
        "id": "QV0bteD8N1vW",
        "colab_type": "text"
      },
      "source": [
        "# Grouping and Aggregating Data\n",
        "\n",
        "pandas offers an 'SQL-like' style to group and aggregate data with `groupby()` method\n",
        "\n",
        "For example, let's try finding the average population size and house_value for different income groups"
      ]
    },
    {
      "cell_type": "code",
      "metadata": {
        "id": "FsyimW1KO9Iy",
        "colab_type": "code",
        "colab": {
          "base_uri": "https://localhost:8080/",
          "height": 173
        },
        "outputId": "2beaa184-c2d0-4982-f71e-cefc1290394b"
      },
      "source": [
        "income_labels = ['B40', 'M40', 'T20']\n",
        "df_housing['income_group'] = pd.qcut(df_housing['median_income'], # Again, don't worry about this\n",
        "                              q=[0, .4, .8, 1],\n",
        "                              labels=income_labels)\n",
        "\n",
        "df_grouped = df_housing.groupby(['income_group']).mean().filter(['population', 'median_house_value'])\n",
        "df_grouped"
      ],
      "execution_count": 88,
      "outputs": [
        {
          "output_type": "execute_result",
          "data": {
            "text/html": [
              "<div>\n",
              "<style scoped>\n",
              "    .dataframe tbody tr th:only-of-type {\n",
              "        vertical-align: middle;\n",
              "    }\n",
              "\n",
              "    .dataframe tbody tr th {\n",
              "        vertical-align: top;\n",
              "    }\n",
              "\n",
              "    .dataframe thead th {\n",
              "        text-align: right;\n",
              "    }\n",
              "</style>\n",
              "<table border=\"1\" class=\"dataframe\">\n",
              "  <thead>\n",
              "    <tr style=\"text-align: right;\">\n",
              "      <th></th>\n",
              "      <th>population</th>\n",
              "      <th>median_house_value</th>\n",
              "    </tr>\n",
              "    <tr>\n",
              "      <th>income_group</th>\n",
              "      <th></th>\n",
              "      <th></th>\n",
              "    </tr>\n",
              "  </thead>\n",
              "  <tbody>\n",
              "    <tr>\n",
              "      <th>B40</th>\n",
              "      <td>1403.561471</td>\n",
              "      <td>137405.299412</td>\n",
              "    </tr>\n",
              "    <tr>\n",
              "      <th>M40</th>\n",
              "      <td>1446.940882</td>\n",
              "      <td>212430.683382</td>\n",
              "    </tr>\n",
              "    <tr>\n",
              "      <th>T20</th>\n",
              "      <td>1446.865000</td>\n",
              "      <td>336832.596176</td>\n",
              "    </tr>\n",
              "  </tbody>\n",
              "</table>\n",
              "</div>"
            ],
            "text/plain": [
              "               population  median_house_value\n",
              "income_group                                 \n",
              "B40           1403.561471       137405.299412\n",
              "M40           1446.940882       212430.683382\n",
              "T20           1446.865000       336832.596176"
            ]
          },
          "metadata": {
            "tags": []
          },
          "execution_count": 88
        }
      ]
    },
    {
      "cell_type": "markdown",
      "metadata": {
        "id": "x_XPEQuCQzlU",
        "colab_type": "text"
      },
      "source": [
        "Looking at the `groupby()` statement above, it consists of several components\n",
        "\n",
        "\n",
        "1.   `.groupby()` function. This find which column it is 'pivoting' on\n",
        "2.   `.mean()` which is one of the aggregation function you can use. You can also use `.count()`, `.median()` etc\n",
        "\n"
      ]
    },
    {
      "cell_type": "markdown",
      "metadata": {
        "id": "1fqti08WRrX3",
        "colab_type": "text"
      },
      "source": [
        "Groupby with multiple columns is also possible. And it will pivot based on which column comes first."
      ]
    },
    {
      "cell_type": "code",
      "metadata": {
        "id": "iXUC6qgoR_b_",
        "colab_type": "code",
        "colab": {
          "base_uri": "https://localhost:8080/",
          "height": 359
        },
        "outputId": "efe4ae0a-b3fa-49bf-bb63-e76fa1b4bcf6"
      },
      "source": [
        "house_labels = ['New', 'Old', 'Vintage']\n",
        "df_housing['house_age_group'] = pd.qcut(df_housing['housing_median_age'], # Again, don't worry about this\n",
        "                              q=[0, .2, .8, 1],\n",
        "                              labels=house_labels)\n",
        "\n",
        "# Groupby house age and then income group\n",
        "df_housing.groupby(['house_age_group', 'income_group']).mean().filter(['population', 'median_house_value'])"
      ],
      "execution_count": 75,
      "outputs": [
        {
          "output_type": "execute_result",
          "data": {
            "text/html": [
              "<div>\n",
              "<style scoped>\n",
              "    .dataframe tbody tr th:only-of-type {\n",
              "        vertical-align: middle;\n",
              "    }\n",
              "\n",
              "    .dataframe tbody tr th {\n",
              "        vertical-align: top;\n",
              "    }\n",
              "\n",
              "    .dataframe thead th {\n",
              "        text-align: right;\n",
              "    }\n",
              "</style>\n",
              "<table border=\"1\" class=\"dataframe\">\n",
              "  <thead>\n",
              "    <tr style=\"text-align: right;\">\n",
              "      <th></th>\n",
              "      <th></th>\n",
              "      <th>population</th>\n",
              "      <th>median_house_value</th>\n",
              "    </tr>\n",
              "    <tr>\n",
              "      <th>house_age_group</th>\n",
              "      <th>income_group</th>\n",
              "      <th></th>\n",
              "      <th></th>\n",
              "    </tr>\n",
              "  </thead>\n",
              "  <tbody>\n",
              "    <tr>\n",
              "      <th rowspan=\"3\" valign=\"top\">New</th>\n",
              "      <th>B40</th>\n",
              "      <td>1687.517155</td>\n",
              "      <td>126231.970711</td>\n",
              "    </tr>\n",
              "    <tr>\n",
              "      <th>M40</th>\n",
              "      <td>1961.577246</td>\n",
              "      <td>178717.490419</td>\n",
              "    </tr>\n",
              "    <tr>\n",
              "      <th>T20</th>\n",
              "      <td>1994.239963</td>\n",
              "      <td>292715.196078</td>\n",
              "    </tr>\n",
              "    <tr>\n",
              "      <th rowspan=\"3\" valign=\"top\">Old</th>\n",
              "      <th>B40</th>\n",
              "      <td>1437.698039</td>\n",
              "      <td>135059.857598</td>\n",
              "    </tr>\n",
              "    <tr>\n",
              "      <th>M40</th>\n",
              "      <td>1373.995920</td>\n",
              "      <td>211187.831209</td>\n",
              "    </tr>\n",
              "    <tr>\n",
              "      <th>T20</th>\n",
              "      <td>1288.840381</td>\n",
              "      <td>344374.667019</td>\n",
              "    </tr>\n",
              "    <tr>\n",
              "      <th rowspan=\"3\" valign=\"top\">Vintage</th>\n",
              "      <th>B40</th>\n",
              "      <td>1089.722623</td>\n",
              "      <td>152435.811148</td>\n",
              "    </tr>\n",
              "    <tr>\n",
              "      <th>M40</th>\n",
              "      <td>972.311258</td>\n",
              "      <td>263072.652318</td>\n",
              "    </tr>\n",
              "    <tr>\n",
              "      <th>T20</th>\n",
              "      <td>789.528604</td>\n",
              "      <td>412302.018307</td>\n",
              "    </tr>\n",
              "  </tbody>\n",
              "</table>\n",
              "</div>"
            ],
            "text/plain": [
              "                               population  median_house_value\n",
              "house_age_group income_group                                 \n",
              "New             B40           1687.517155       126231.970711\n",
              "                M40           1961.577246       178717.490419\n",
              "                T20           1994.239963       292715.196078\n",
              "Old             B40           1437.698039       135059.857598\n",
              "                M40           1373.995920       211187.831209\n",
              "                T20           1288.840381       344374.667019\n",
              "Vintage         B40           1089.722623       152435.811148\n",
              "                M40            972.311258       263072.652318\n",
              "                T20            789.528604       412302.018307"
            ]
          },
          "metadata": {
            "tags": []
          },
          "execution_count": 75
        }
      ]
    },
    {
      "cell_type": "markdown",
      "metadata": {
        "id": "tyIJgKy7S5xp",
        "colab_type": "text"
      },
      "source": [
        "**Important**\n",
        "\n",
        "A dataframe in 'grouped' formed is very hard to extend or do further manipulation and processing.\n",
        "\n",
        "It is highly advisable to run `reset_index()` such that the dataframe is 'flat' again."
      ]
    },
    {
      "cell_type": "code",
      "metadata": {
        "id": "CunaERTDTPtw",
        "colab_type": "code",
        "colab": {
          "base_uri": "https://localhost:8080/",
          "height": 328
        },
        "outputId": "3cdf90ba-280b-42f9-e7d3-cf30fd7fac11"
      },
      "source": [
        "df_housing.groupby(['house_age_group', 'income_group']).mean().filter(['population', 'median_house_value']).reset_index()"
      ],
      "execution_count": 77,
      "outputs": [
        {
          "output_type": "execute_result",
          "data": {
            "text/html": [
              "<div>\n",
              "<style scoped>\n",
              "    .dataframe tbody tr th:only-of-type {\n",
              "        vertical-align: middle;\n",
              "    }\n",
              "\n",
              "    .dataframe tbody tr th {\n",
              "        vertical-align: top;\n",
              "    }\n",
              "\n",
              "    .dataframe thead th {\n",
              "        text-align: right;\n",
              "    }\n",
              "</style>\n",
              "<table border=\"1\" class=\"dataframe\">\n",
              "  <thead>\n",
              "    <tr style=\"text-align: right;\">\n",
              "      <th></th>\n",
              "      <th>house_age_group</th>\n",
              "      <th>income_group</th>\n",
              "      <th>population</th>\n",
              "      <th>median_house_value</th>\n",
              "    </tr>\n",
              "  </thead>\n",
              "  <tbody>\n",
              "    <tr>\n",
              "      <th>0</th>\n",
              "      <td>New</td>\n",
              "      <td>B40</td>\n",
              "      <td>1687.517155</td>\n",
              "      <td>126231.970711</td>\n",
              "    </tr>\n",
              "    <tr>\n",
              "      <th>1</th>\n",
              "      <td>New</td>\n",
              "      <td>M40</td>\n",
              "      <td>1961.577246</td>\n",
              "      <td>178717.490419</td>\n",
              "    </tr>\n",
              "    <tr>\n",
              "      <th>2</th>\n",
              "      <td>New</td>\n",
              "      <td>T20</td>\n",
              "      <td>1994.239963</td>\n",
              "      <td>292715.196078</td>\n",
              "    </tr>\n",
              "    <tr>\n",
              "      <th>3</th>\n",
              "      <td>Old</td>\n",
              "      <td>B40</td>\n",
              "      <td>1437.698039</td>\n",
              "      <td>135059.857598</td>\n",
              "    </tr>\n",
              "    <tr>\n",
              "      <th>4</th>\n",
              "      <td>Old</td>\n",
              "      <td>M40</td>\n",
              "      <td>1373.995920</td>\n",
              "      <td>211187.831209</td>\n",
              "    </tr>\n",
              "    <tr>\n",
              "      <th>5</th>\n",
              "      <td>Old</td>\n",
              "      <td>T20</td>\n",
              "      <td>1288.840381</td>\n",
              "      <td>344374.667019</td>\n",
              "    </tr>\n",
              "    <tr>\n",
              "      <th>6</th>\n",
              "      <td>Vintage</td>\n",
              "      <td>B40</td>\n",
              "      <td>1089.722623</td>\n",
              "      <td>152435.811148</td>\n",
              "    </tr>\n",
              "    <tr>\n",
              "      <th>7</th>\n",
              "      <td>Vintage</td>\n",
              "      <td>M40</td>\n",
              "      <td>972.311258</td>\n",
              "      <td>263072.652318</td>\n",
              "    </tr>\n",
              "    <tr>\n",
              "      <th>8</th>\n",
              "      <td>Vintage</td>\n",
              "      <td>T20</td>\n",
              "      <td>789.528604</td>\n",
              "      <td>412302.018307</td>\n",
              "    </tr>\n",
              "  </tbody>\n",
              "</table>\n",
              "</div>"
            ],
            "text/plain": [
              "  house_age_group income_group   population  median_house_value\n",
              "0             New          B40  1687.517155       126231.970711\n",
              "1             New          M40  1961.577246       178717.490419\n",
              "2             New          T20  1994.239963       292715.196078\n",
              "3             Old          B40  1437.698039       135059.857598\n",
              "4             Old          M40  1373.995920       211187.831209\n",
              "5             Old          T20  1288.840381       344374.667019\n",
              "6         Vintage          B40  1089.722623       152435.811148\n",
              "7         Vintage          M40   972.311258       263072.652318\n",
              "8         Vintage          T20   789.528604       412302.018307"
            ]
          },
          "metadata": {
            "tags": []
          },
          "execution_count": 77
        }
      ]
    },
    {
      "cell_type": "markdown",
      "metadata": {
        "id": "9UFLfRnZOCfJ",
        "colab_type": "text"
      },
      "source": [
        "# Visualise Data\n",
        "\n",
        "As mentioned, we will be using matplotlib to visualise our data.\n",
        "\n",
        "Two main concepts:\n",
        "\n",
        "\n",
        "1.   `plt.figure()` - where we will draw our charts\n",
        "2.   `plt.plot()` - how we will draw our charts\n",
        "\n"
      ]
    },
    {
      "cell_type": "markdown",
      "metadata": {
        "id": "un6VVeCXT3hd",
        "colab_type": "text"
      },
      "source": [
        "### Plot()\n",
        "\n",
        "First, let's try plotting a simple chart via `plot()`\n",
        "\n",
        "`plot()` method very simply accepts two parameters: 1) a list of values for the x-axis, 2) a list of values for the y-axis\n",
        "\n"
      ]
    },
    {
      "cell_type": "code",
      "metadata": {
        "id": "8QJ-IstPUArc",
        "colab_type": "code",
        "colab": {}
      },
      "source": [
        "# Don't worry about these\n",
        "import numpy as np\n",
        "x = np.arange(0, 10, 0.2)\n",
        "y = np.sin(x)\n",
        "\n",
        "plt.plot(x,y)"
      ],
      "execution_count": 0,
      "outputs": []
    },
    {
      "cell_type": "markdown",
      "metadata": {
        "id": "7m9yzvpQWBSY",
        "colab_type": "text"
      },
      "source": [
        "For dataframes, we can use the `data` parameter and just pass column names into `.plot()`\n"
      ]
    },
    {
      "cell_type": "code",
      "metadata": {
        "id": "6jQNPPRWUH-2",
        "colab_type": "code",
        "colab": {}
      },
      "source": [
        "plt.plot(df_housing.index,'median_house_value', data=df_housing)"
      ],
      "execution_count": 0,
      "outputs": []
    },
    {
      "cell_type": "markdown",
      "metadata": {
        "id": "2zk2tqO5WmuU",
        "colab_type": "text"
      },
      "source": [
        "Even simpler, you can even use `.plot()` on a Pandas Series to automatically plot"
      ]
    },
    {
      "cell_type": "code",
      "metadata": {
        "id": "wKmfvLpJWXa0",
        "colab_type": "code",
        "colab": {}
      },
      "source": [
        "df_housing['median_house_value'].plot()"
      ],
      "execution_count": 0,
      "outputs": []
    },
    {
      "cell_type": "markdown",
      "metadata": {
        "id": "q7pTtsfxW7L0",
        "colab_type": "text"
      },
      "source": [
        "To plot a bar chart, replace `.plot()` with `.bar()`\n",
        "\n",
        "For Pandas Series, pass the `kind='bar'` parameter"
      ]
    },
    {
      "cell_type": "code",
      "metadata": {
        "id": "huyLC9DmWwto",
        "colab_type": "code",
        "colab": {}
      },
      "source": [
        "plt.bar(df_grouped.index,'median_house_value',data=df_grouped)"
      ],
      "execution_count": 0,
      "outputs": []
    },
    {
      "cell_type": "code",
      "metadata": {
        "id": "54AWUWMFXYIs",
        "colab_type": "code",
        "colab": {}
      },
      "source": [
        "df_grouped['median_house_value'].plot(kind='bar')"
      ],
      "execution_count": 0,
      "outputs": []
    },
    {
      "cell_type": "markdown",
      "metadata": {
        "id": "ICXo9encXzI0",
        "colab_type": "text"
      },
      "source": [
        "### Figure()\n",
        "\n",
        "Now, to ensure our plots are well formatted, we utilise the `plt.figure()` method\n",
        "\n",
        "This method is very dense and flexible and can be very complex.\n",
        "\n",
        "For the sake of brevity, we are only going to go over: 1) Size of `figure()` , 2) Place a title into our figure"
      ]
    },
    {
      "cell_type": "markdown",
      "metadata": {
        "id": "d3JJnIXUYvFU",
        "colab_type": "text"
      },
      "source": [
        "To manage the size of your chart, use the `figsize` parameter into `figure()`"
      ]
    },
    {
      "cell_type": "code",
      "metadata": {
        "id": "g4lUWjm3XvGM",
        "colab_type": "code",
        "colab": {}
      },
      "source": [
        "x = np.arange(0, 10, 0.2)\n",
        "y = np.sin(x)\n",
        "\n",
        "plt.figure(figsize=(12,8))\n",
        "plt.plot(x,y)"
      ],
      "execution_count": 0,
      "outputs": []
    },
    {
      "cell_type": "markdown",
      "metadata": {
        "id": "w0n4jd77Y-GH",
        "colab_type": "text"
      },
      "source": [
        "To place a title into our chart, we use the `title()` method.\n",
        "\n",
        "Underneath the hood, it is actually modifying the figure underneath"
      ]
    },
    {
      "cell_type": "code",
      "metadata": {
        "id": "UZoPXp4AY5jR",
        "colab_type": "code",
        "colab": {}
      },
      "source": [
        "x = np.arange(0, 10, 0.2)\n",
        "y = np.sin(x)\n",
        "\n",
        "plt.figure(figsize=(12,8))\n",
        "plt.title(\"Test Chart\")\n",
        "plt.plot(x,y)"
      ],
      "execution_count": 0,
      "outputs": []
    },
    {
      "cell_type": "code",
      "metadata": {
        "id": "Em-_YSjGZRYW",
        "colab_type": "code",
        "colab": {}
      },
      "source": [
        ""
      ],
      "execution_count": 0,
      "outputs": []
    }
  ]
}