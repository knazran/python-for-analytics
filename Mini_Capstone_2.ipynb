{
  "nbformat": 4,
  "nbformat_minor": 0,
  "metadata": {
    "colab": {
      "name": "Mini-Capstone 2.ipynb",
      "provenance": [],
      "collapsed_sections": [],
      "toc_visible": true,
      "include_colab_link": true
    },
    "kernelspec": {
      "name": "python3",
      "display_name": "Python 3"
    }
  },
  "cells": [
    {
      "cell_type": "markdown",
      "metadata": {
        "id": "view-in-github",
        "colab_type": "text"
      },
      "source": [
        "<a href=\"https://colab.research.google.com/github/knazran/python-for-analytics/blob/master/Mini_Capstone_2.ipynb\" target=\"_parent\"><img src=\"https://colab.research.google.com/assets/colab-badge.svg\" alt=\"Open In Colab\"/></a>"
      ]
    },
    {
      "cell_type": "markdown",
      "metadata": {
        "id": "L5zO-JrFbHMy",
        "colab_type": "text"
      },
      "source": [
        "# Introducing the Mini-Capstone 2\n",
        "\n",
        "This is a mini-capstone to bring together all the  concepts you learned in pandas and matplotlib to conduct a simple analysis on data.\n",
        "\n",
        "## About the mini-capstone\n",
        "\n",
        "The goal is to answer each question related to data analysis. As you progress further, the question gets tougher and some even may push you beyond what was covered.\n",
        "\n",
        "Different than the first mini-capstone, this one is less structured as there are no exact 'expected output'.\n",
        "\n",
        "Do try your best!\n",
        "\n",
        "### Tips\n",
        "\n",
        "\n",
        "1.   Don't afraid to ask or Google. Prefix your searches with 'pandas'\n",
        "2.   Create small blocks of code and try running it chunk by chunk\n",
        "\n",
        "\n"
      ]
    },
    {
      "cell_type": "markdown",
      "metadata": {
        "id": "IE20ZaIEcINT",
        "colab_type": "text"
      },
      "source": [
        "## Background\n",
        "\n",
        "The office cafe introduced the self-ordering system and it was a hit. But now, they are sitting on a pile of data and they would like to analyse it to see if there is any insight worth knowing and acted upon.\n",
        "\n",
        "In order to tap into the bright people in the organisation to bring a positive impact, you are (also) tasked to analyse the data.\n",
        "\n",
        "The end goal is to:\n",
        "*   Find out which menu item is the most popular.\n",
        "*   Who is the biggest spender and most loyal customer.\n",
        "*   How does menu items perform throughout the year.\n",
        "\n",
        "Download the dataset here: https://drive.google.com/open?id=1NT6hEtot2glg0hChpni4aZRAPV2-trts"
      ]
    },
    {
      "cell_type": "markdown",
      "metadata": {
        "id": "eklAB0qPcEwa",
        "colab_type": "text"
      },
      "source": [
        "# Load and Check the Data"
      ]
    },
    {
      "cell_type": "code",
      "metadata": {
        "id": "iva0WtMcd65_",
        "colab_type": "code",
        "colab": {}
      },
      "source": [
        "df = pd.read_csv('/content/order_history-v1.csv')"
      ],
      "execution_count": 0,
      "outputs": []
    },
    {
      "cell_type": "markdown",
      "metadata": {
        "id": "4ftu9EEjdffU",
        "colab_type": "text"
      },
      "source": [
        "### 1) What the shape of the data? Are there any missing values?"
      ]
    },
    {
      "cell_type": "code",
      "metadata": {
        "id": "bXsLuyKaaYae",
        "colab_type": "code",
        "colab": {}
      },
      "source": [
        "# Your code starts here"
      ],
      "execution_count": 0,
      "outputs": []
    },
    {
      "cell_type": "markdown",
      "metadata": {
        "id": "h9fHrLlpd_kp",
        "colab_type": "text"
      },
      "source": [
        "### 2) Who has been using the system and what are their names?"
      ]
    },
    {
      "cell_type": "code",
      "metadata": {
        "id": "kNl5fdOVeyLO",
        "colab_type": "code",
        "colab": {}
      },
      "source": [
        "# Your code starts here.\n",
        "# Hint: Use .unique()"
      ],
      "execution_count": 0,
      "outputs": []
    },
    {
      "cell_type": "markdown",
      "metadata": {
        "id": "iAy9X9M9e8UI",
        "colab_type": "text"
      },
      "source": [
        "### 3) Which menu item is the most popular?\n",
        "\n",
        "Expected Output: A barchart titled \"Popular Menu Items\""
      ]
    },
    {
      "cell_type": "code",
      "metadata": {
        "id": "n9Wov1wbfRyV",
        "colab_type": "code",
        "colab": {}
      },
      "source": [
        "# Your code starts here.\n",
        "# Hint: Use .value_counts()"
      ],
      "execution_count": 0,
      "outputs": []
    },
    {
      "cell_type": "markdown",
      "metadata": {
        "id": "Q9HJt-gTjjf8",
        "colab_type": "text"
      },
      "source": [
        "### 4) What is the total sales in ringgit value for every menu item?\n",
        "\n",
        "Expected Output: A barchart titled \"Total Sales\" showing the total sales of each menu item for the year"
      ]
    },
    {
      "cell_type": "code",
      "metadata": {
        "id": "TjAsYTKGkGDI",
        "colab_type": "code",
        "colab": {}
      },
      "source": [
        ""
      ],
      "execution_count": 0,
      "outputs": []
    },
    {
      "cell_type": "markdown",
      "metadata": {
        "id": "jhXX7GqsfU02",
        "colab_type": "text"
      },
      "source": [
        "### 5) Who are the top 5 biggest spenders and top 5 most loyal customers?\n",
        "\n",
        "Biggest spender here refers to the ringgit value spent at the cafe, while loyalty refers to number of times visited.\n",
        "\n",
        "Expected Output: Two barcharts to denote top 5 biggest spenders and top 5 most loyal customers.\n"
      ]
    },
    {
      "cell_type": "code",
      "metadata": {
        "id": "vzvZQ5Trf21y",
        "colab_type": "code",
        "colab": {}
      },
      "source": [
        "# Your code starts here.\n",
        "# Hint: Use .groupby. Try figuring out how to sort values."
      ],
      "execution_count": 0,
      "outputs": []
    },
    {
      "cell_type": "markdown",
      "metadata": {
        "id": "nXlGbYxyitf0",
        "colab_type": "text"
      },
      "source": [
        "### 6) How does the sales of each menu items perform throughout the year?\n",
        "\n",
        "\n",
        "Expected Output: One line chart per menu item, showing number of sales from January to December.\n"
      ]
    },
    {
      "cell_type": "code",
      "metadata": {
        "id": "BWYnyCDNlHTC",
        "colab_type": "code",
        "colab": {}
      },
      "source": [
        "# Your code starts here.\n",
        "# Hint: January-December should be the index"
      ],
      "execution_count": 0,
      "outputs": []
    },
    {
      "cell_type": "markdown",
      "metadata": {
        "id": "Qdgk4HoPkR5r",
        "colab_type": "text"
      },
      "source": [
        "### 7) There is a 20% coffee discount in July for Coffee Month\n",
        "\n",
        "Create a `new_order_cost` column to correct for the discount.\n",
        "\n",
        "Note that the discount only applies to coffee in the month of July.\n",
        "\n",
        "Recalculate the total sales for menu items with the new corrected prices.\n",
        "\n",
        "Expected Output: A barchart titled \"Total Sales - Corrected\" showing the total sales of each menu item for the year"
      ]
    },
    {
      "cell_type": "code",
      "metadata": {
        "id": "qVMtkTMljJfz",
        "colab_type": "code",
        "colab": {}
      },
      "source": [
        "# Your code starts here.\n",
        "# Hint: Create a function to only adjust prices for coffee in July and then use .apply()"
      ],
      "execution_count": 0,
      "outputs": []
    },
    {
      "cell_type": "code",
      "metadata": {
        "id": "mgCLJyEXlYv3",
        "colab_type": "code",
        "colab": {}
      },
      "source": [
        ""
      ],
      "execution_count": 0,
      "outputs": []
    }
  ]
}