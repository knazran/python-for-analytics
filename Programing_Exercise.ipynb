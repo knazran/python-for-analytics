{
  "nbformat": 4,
  "nbformat_minor": 0,
  "metadata": {
    "colab": {
      "name": "Programing Exercise.ipynb",
      "provenance": [],
      "collapsed_sections": [],
      "toc_visible": true,
      "include_colab_link": true
    },
    "kernelspec": {
      "name": "python3",
      "display_name": "Python 3"
    }
  },
  "cells": [
    {
      "cell_type": "markdown",
      "metadata": {
        "id": "view-in-github",
        "colab_type": "text"
      },
      "source": [
        "<a href=\"https://colab.research.google.com/github/knazran/python-for-analytics/blob/master/Programing_Exercise.ipynb\" target=\"_parent\"><img src=\"https://colab.research.google.com/assets/colab-badge.svg\" alt=\"Open In Colab\"/></a>"
      ]
    },
    {
      "cell_type": "markdown",
      "metadata": {
        "id": "ltFdc8G1cklg",
        "colab_type": "text"
      },
      "source": [
        "# Welcome to Programming Exercise 1\n",
        "\n",
        "We will be going through fundamental concepts of programming...in Python!\n",
        "\n",
        "The concepts we will be going through:\n",
        "\n",
        "\n",
        "1.   Variables\n",
        "2.   Data types\n",
        "3.   Functions\n",
        "4. Conditionals\n",
        "5. Data Structures\n",
        "6. Loops\n",
        "\n",
        "This environment and its exercises are split into different blocks of code.\n",
        "Press 'Shift + Enter' to execute the block you are in to run the code\n"
      ]
    },
    {
      "cell_type": "markdown",
      "metadata": {
        "id": "iuTZFfRmd721",
        "colab_type": "text"
      },
      "source": [
        "#### BUT FIRST\n",
        "\n",
        "Go on and print your 'Hello World!'"
      ]
    },
    {
      "cell_type": "code",
      "metadata": {
        "id": "KUakILpHeDuz",
        "colab_type": "code",
        "colab": {
          "base_uri": "https://localhost:8080/",
          "height": 34
        },
        "outputId": "c24439a0-8f35-4d24-bc63-aa29c0aa4bd8"
      },
      "source": [
        "print(\"Hello World\")"
      ],
      "execution_count": 1,
      "outputs": [
        {
          "output_type": "stream",
          "text": [
            "Hello World\n"
          ],
          "name": "stdout"
        }
      ]
    },
    {
      "cell_type": "code",
      "metadata": {
        "id": "S31LpG6TlOaR",
        "colab_type": "code",
        "colab": {}
      },
      "source": [
        "# Try printing your own message\n",
        "print(\"My message here\")"
      ],
      "execution_count": 0,
      "outputs": []
    },
    {
      "cell_type": "markdown",
      "metadata": {
        "id": "IrKbbHrbdDFk",
        "colab_type": "text"
      },
      "source": [
        "# Variables - The name of things\n",
        "\n",
        "A variable is a small box to contain a value. This value can be a number, a character, or a string. But it is a basic box.\n",
        "\n",
        "To create and assign variables in Python, "
      ]
    },
    {
      "cell_type": "code",
      "metadata": {
        "id": "CTbRKIxGlpuN",
        "colab_type": "code",
        "colab": {}
      },
      "source": [
        "x = 10 # Variable x is a number 10\n",
        "y = 'a' # Variable y is a character 'a'\n",
        "thisIsAVariableToo = 'Simple right?' # Variable thisIsAVariableToo is a string 'Simple right?'"
      ],
      "execution_count": 0,
      "outputs": []
    },
    {
      "cell_type": "code",
      "metadata": {
        "id": "6pOU7Kdrl-Ai",
        "colab_type": "code",
        "colab": {
          "base_uri": "https://localhost:8080/",
          "height": 34
        },
        "outputId": "9847c4ad-b602-4f6f-acc0-260dbb8b6ce5"
      },
      "source": [
        "# printing 'x' will show the number 10\n",
        "x = 10 # Variable x is a number 10\n",
        "print(x)"
      ],
      "execution_count": 3,
      "outputs": [
        {
          "output_type": "stream",
          "text": [
            "10\n"
          ],
          "name": "stdout"
        }
      ]
    },
    {
      "cell_type": "markdown",
      "metadata": {
        "id": "2MDSduoumOg8",
        "colab_type": "text"
      },
      "source": [
        "\n",
        "Variables can be passed around and reassigned."
      ]
    },
    {
      "cell_type": "code",
      "metadata": {
        "id": "VkBIRnDgmNMn",
        "colab_type": "code",
        "colab": {
          "base_uri": "https://localhost:8080/",
          "height": 51
        },
        "outputId": "bad05894-8152-4824-be6f-ce380818d72c"
      },
      "source": [
        "x = 10 # Set x to be 10\n",
        "y = x # Set x to be y\n",
        "print(y) # y is 10!\n",
        "\n",
        "x = 2020 # reassign x to be 2020\n",
        "print(x) # x is 2020!"
      ],
      "execution_count": 4,
      "outputs": [
        {
          "output_type": "stream",
          "text": [
            "10\n",
            "2020\n"
          ],
          "name": "stdout"
        }
      ]
    },
    {
      "cell_type": "markdown",
      "metadata": {
        "id": "UQF9MHNLnUz2",
        "colab_type": "text"
      },
      "source": [
        "Note: variable names in python CAN NOT have spaces or dashes\n",
        "\n",
        "Use underscores, `like_this` or camel case, `likeThis` for long variable names"
      ]
    },
    {
      "cell_type": "markdown",
      "metadata": {
        "id": "P46sMobBmxEZ",
        "colab_type": "text"
      },
      "source": [
        "### Input and Output\n",
        "\n",
        "So far, we know how to output a variable using 'print'\n",
        "How do we get a value into a variable?\n",
        "\n",
        "We use `input()`\n",
        "\n",
        "Trying running the block below and typing your input in"
      ]
    },
    {
      "cell_type": "code",
      "metadata": {
        "id": "_r1GnINcm_i5",
        "colab_type": "code",
        "colab": {
          "base_uri": "https://localhost:8080/",
          "height": 51
        },
        "outputId": "4e2f5871-b7ed-47b7-f9dc-0d7439a11cb8"
      },
      "source": [
        "input()"
      ],
      "execution_count": 5,
      "outputs": [
        {
          "output_type": "stream",
          "text": [
            "Test\n"
          ],
          "name": "stdout"
        },
        {
          "output_type": "execute_result",
          "data": {
            "text/plain": [
              "'Test'"
            ]
          },
          "metadata": {
            "tags": []
          },
          "execution_count": 5
        }
      ]
    },
    {
      "cell_type": "markdown",
      "metadata": {
        "id": "K7r0JhkInLC6",
        "colab_type": "text"
      },
      "source": [
        "We can use `input()` and pass the value to a variable"
      ]
    },
    {
      "cell_type": "code",
      "metadata": {
        "id": "0jUkISHNnPOS",
        "colab_type": "code",
        "colab": {
          "base_uri": "https://localhost:8080/",
          "height": 68
        },
        "outputId": "ab03b8f2-633e-4ca1-b6cc-c49ccf284ead"
      },
      "source": [
        "our_value = input()\n",
        "print(\"This is {}\".format(our_value)) # Don't worry if you don't understand this"
      ],
      "execution_count": 8,
      "outputs": [
        {
          "output_type": "stream",
          "text": [
            "asd\n",
            "wewq\n",
            "This is asd\n"
          ],
          "name": "stdout"
        }
      ]
    },
    {
      "cell_type": "markdown",
      "metadata": {
        "id": "YTzkjBrGo5XP",
        "colab_type": "text"
      },
      "source": [
        "### Exercise 1\n",
        "\n",
        "\n",
        "\n",
        "1.   Create a variable `input_x` which asks for user input\n",
        "2.   Print out `input_x`\n",
        "3. Assign `input_x` to `same_input`\n"
      ]
    },
    {
      "cell_type": "code",
      "metadata": {
        "id": "Ecm5cYIVp1Qv",
        "colab_type": "code",
        "colab": {}
      },
      "source": [
        "# YOUR CODE STARTS HERE \n",
        "\n",
        "print(\"same_input is also {}!\".format(same_input))"
      ],
      "execution_count": 0,
      "outputs": []
    },
    {
      "cell_type": "markdown",
      "metadata": {
        "id": "x951cdImlXia",
        "colab_type": "text"
      },
      "source": [
        "# Data type - The Characteristic of Things\n",
        "\n",
        "Data type defines the characteristics of a value. A number has different characteristic and nature than a letter.\n",
        "\n",
        "Common data types:\n",
        "\n",
        "\n",
        "1.   Integers (int)\n",
        "2.   General numbers, with decimals (float)\n",
        "3. Words, letters (string)\n",
        "\n",
        "Every variable has a data type. \n",
        "\n",
        "To inspect a variable's data type, use `type(x)` where x is your variable\n",
        "\n",
        "\n"
      ]
    },
    {
      "cell_type": "code",
      "metadata": {
        "id": "e2MxGng3cOW0",
        "colab_type": "code",
        "colab": {
          "base_uri": "https://localhost:8080/",
          "height": 34
        },
        "outputId": "0613702e-ba36-42c6-9601-47828dd4e1a9"
      },
      "source": [
        "x = \"Hello world\"\n",
        "print(type(x)) # Should show 'str'"
      ],
      "execution_count": 11,
      "outputs": [
        {
          "output_type": "stream",
          "text": [
            "<class 'str'>\n"
          ],
          "name": "stdout"
        }
      ]
    },
    {
      "cell_type": "code",
      "metadata": {
        "id": "Mv0VxIONqpmS",
        "colab_type": "code",
        "colab": {
          "base_uri": "https://localhost:8080/",
          "height": 34
        },
        "outputId": "6591aa80-9b5b-4a0b-e73c-51a4aa195809"
      },
      "source": [
        "y = 10\n",
        "print(type(y)) # Should show 'int'"
      ],
      "execution_count": 12,
      "outputs": [
        {
          "output_type": "stream",
          "text": [
            "<class 'int'>\n"
          ],
          "name": "stdout"
        }
      ]
    },
    {
      "cell_type": "code",
      "metadata": {
        "id": "L8uzNcDSq0XU",
        "colab_type": "code",
        "colab": {
          "base_uri": "https://localhost:8080/",
          "height": 34
        },
        "outputId": "00d47503-8b53-4bd3-b8a0-d27f4f49614b"
      },
      "source": [
        "y = 3.5\n",
        "print(type(y)) # Should show 'float'"
      ],
      "execution_count": 13,
      "outputs": [
        {
          "output_type": "stream",
          "text": [
            "<class 'float'>\n"
          ],
          "name": "stdout"
        }
      ]
    },
    {
      "cell_type": "markdown",
      "metadata": {
        "id": "FxHsjVDOq9Tn",
        "colab_type": "text"
      },
      "source": [
        "Behavior differs based on its data type"
      ]
    },
    {
      "cell_type": "code",
      "metadata": {
        "id": "pA9DjD7Vq3qD",
        "colab_type": "code",
        "colab": {
          "base_uri": "https://localhost:8080/",
          "height": 68
        },
        "outputId": "8a313f70-8f10-4e6e-9c03-f34aef16fc30"
      },
      "source": [
        "x1 = 10\n",
        "x2 = 10\n",
        "print(type(x1))\n",
        "print(type(x2))\n",
        "x1 + x2 # Also, common math operations are avaiable in Python too. Variables can interact with these operations"
      ],
      "execution_count": 17,
      "outputs": [
        {
          "output_type": "stream",
          "text": [
            "<class 'int'>\n",
            "<class 'int'>\n"
          ],
          "name": "stdout"
        },
        {
          "output_type": "execute_result",
          "data": {
            "text/plain": [
              "20"
            ]
          },
          "metadata": {
            "tags": []
          },
          "execution_count": 17
        }
      ]
    },
    {
      "cell_type": "code",
      "metadata": {
        "id": "0GK2yqqZrKY-",
        "colab_type": "code",
        "colab": {
          "base_uri": "https://localhost:8080/",
          "height": 68
        },
        "outputId": "62d57fd9-f76e-4ecb-fe06-86b8a7dd74f9"
      },
      "source": [
        "y1 = \"10\" # If you realized, strings have quotes (\"\") around them\n",
        "y2 = \"10\"\n",
        "print(type(y1))\n",
        "print(type(y2))\n",
        "y1 + y2"
      ],
      "execution_count": 16,
      "outputs": [
        {
          "output_type": "stream",
          "text": [
            "<class 'str'>\n",
            "<class 'str'>\n"
          ],
          "name": "stdout"
        },
        {
          "output_type": "execute_result",
          "data": {
            "text/plain": [
              "'1010'"
            ]
          },
          "metadata": {
            "tags": []
          },
          "execution_count": 16
        }
      ]
    },
    {
      "cell_type": "markdown",
      "metadata": {
        "id": "izC5xjRfrgTN",
        "colab_type": "text"
      },
      "source": [
        "# Functions - The Recipes to Do Things\n",
        "\n",
        "Functions are steps to do something which you can associate with a name.\n",
        "\n"
      ]
    },
    {
      "cell_type": "markdown",
      "metadata": {
        "id": "wFrupuq1rvIv",
        "colab_type": "text"
      },
      "source": [
        "# Conditionals"
      ]
    },
    {
      "cell_type": "markdown",
      "metadata": {
        "id": "6ASsdvzdrxI2",
        "colab_type": "text"
      },
      "source": [
        "# Data Structures"
      ]
    },
    {
      "cell_type": "markdown",
      "metadata": {
        "id": "NdPeY1eKrzZO",
        "colab_type": "text"
      },
      "source": [
        "# Loop"
      ]
    },
    {
      "cell_type": "code",
      "metadata": {
        "id": "mwgteioIrde2",
        "colab_type": "code",
        "colab": {}
      },
      "source": [
        ""
      ],
      "execution_count": 0,
      "outputs": []
    }
  ]
}