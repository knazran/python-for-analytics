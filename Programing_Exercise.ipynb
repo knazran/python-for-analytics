{
  "nbformat": 4,
  "nbformat_minor": 0,
  "metadata": {
    "colab": {
      "name": "Programing Exercise.ipynb",
      "provenance": [],
      "collapsed_sections": [],
      "toc_visible": true,
      "include_colab_link": true
    },
    "kernelspec": {
      "name": "python3",
      "display_name": "Python 3"
    }
  },
  "cells": [
    {
      "cell_type": "markdown",
      "metadata": {
        "id": "view-in-github",
        "colab_type": "text"
      },
      "source": [
        "<a href=\"https://colab.research.google.com/github/knazran/python-for-analytics/blob/master/Programing_Exercise.ipynb\" target=\"_parent\"><img src=\"https://colab.research.google.com/assets/colab-badge.svg\" alt=\"Open In Colab\"/></a>"
      ]
    },
    {
      "cell_type": "markdown",
      "metadata": {
        "id": "ltFdc8G1cklg",
        "colab_type": "text"
      },
      "source": [
        "# Welcome to Programming Exercise 1\n",
        "\n",
        "We will be going through fundamental concepts of programming...in Python!\n",
        "\n",
        "The concepts we will be going through:\n",
        "\n",
        "\n",
        "1.   Variables\n",
        "2.   Data types\n",
        "3.   Functions\n",
        "4. Conditionals\n",
        "5. Data Structures\n",
        "6. Loops\n",
        "\n",
        "This environment and its exercises are split into different blocks of code.\n",
        "Press 'Shift + Enter' to execute the block you are in to run the code\n"
      ]
    },
    {
      "cell_type": "markdown",
      "metadata": {
        "id": "iuTZFfRmd721",
        "colab_type": "text"
      },
      "source": [
        "#### BUT FIRST\n",
        "\n",
        "Go on and print your 'Hello World!'"
      ]
    },
    {
      "cell_type": "code",
      "metadata": {
        "id": "KUakILpHeDuz",
        "colab_type": "code",
        "colab": {
          "base_uri": "https://localhost:8080/",
          "height": 34
        },
        "outputId": "c24439a0-8f35-4d24-bc63-aa29c0aa4bd8"
      },
      "source": [
        "print(\"Hello World\")"
      ],
      "execution_count": 1,
      "outputs": [
        {
          "output_type": "stream",
          "text": [
            "Hello World\n"
          ],
          "name": "stdout"
        }
      ]
    },
    {
      "cell_type": "code",
      "metadata": {
        "id": "S31LpG6TlOaR",
        "colab_type": "code",
        "colab": {}
      },
      "source": [
        "# Try printing your own message\n",
        "print(\"My message here\")"
      ],
      "execution_count": 0,
      "outputs": []
    },
    {
      "cell_type": "markdown",
      "metadata": {
        "id": "IrKbbHrbdDFk",
        "colab_type": "text"
      },
      "source": [
        "# Variables\n",
        "\n",
        "A variable is a small box to contain a value. This value can be a number, a character, or a string. But it is a basic box.\n",
        "\n",
        "To create and assign variables in Python, "
      ]
    },
    {
      "cell_type": "code",
      "metadata": {
        "id": "CTbRKIxGlpuN",
        "colab_type": "code",
        "colab": {}
      },
      "source": [
        "x = 10 # Variable x is a number 10\n",
        "y = 'a' # Variable y is a character 'a'\n",
        "thisIsAVariableToo = 'Simple right?' # Variable thisIsAVariableToo is a string 'Simple right?'"
      ],
      "execution_count": 0,
      "outputs": []
    },
    {
      "cell_type": "code",
      "metadata": {
        "id": "6pOU7Kdrl-Ai",
        "colab_type": "code",
        "colab": {
          "base_uri": "https://localhost:8080/",
          "height": 34
        },
        "outputId": "9847c4ad-b602-4f6f-acc0-260dbb8b6ce5"
      },
      "source": [
        "# printing 'x' will show the number 10\n",
        "x = 10 # Variable x is a number 10\n",
        "print(x)"
      ],
      "execution_count": 3,
      "outputs": [
        {
          "output_type": "stream",
          "text": [
            "10\n"
          ],
          "name": "stdout"
        }
      ]
    },
    {
      "cell_type": "markdown",
      "metadata": {
        "id": "2MDSduoumOg8",
        "colab_type": "text"
      },
      "source": [
        "\n",
        "Variables can be passed around and reassigned."
      ]
    },
    {
      "cell_type": "code",
      "metadata": {
        "id": "VkBIRnDgmNMn",
        "colab_type": "code",
        "colab": {
          "base_uri": "https://localhost:8080/",
          "height": 51
        },
        "outputId": "bad05894-8152-4824-be6f-ce380818d72c"
      },
      "source": [
        "x = 10 # Set x to be 10\n",
        "y = x # Set x to be y\n",
        "print(y) # y is 10!\n",
        "\n",
        "x = 2020 # reassign x to be 2020\n",
        "print(x) # x is 2020!"
      ],
      "execution_count": 4,
      "outputs": [
        {
          "output_type": "stream",
          "text": [
            "10\n",
            "2020\n"
          ],
          "name": "stdout"
        }
      ]
    },
    {
      "cell_type": "markdown",
      "metadata": {
        "id": "x951cdImlXia",
        "colab_type": "text"
      },
      "source": [
        "# New Section"
      ]
    },
    {
      "cell_type": "code",
      "metadata": {
        "id": "e2MxGng3cOW0",
        "colab_type": "code",
        "colab": {}
      },
      "source": [
        ""
      ],
      "execution_count": 0,
      "outputs": []
    }
  ]
}