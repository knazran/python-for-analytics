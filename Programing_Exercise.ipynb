{
  "nbformat": 4,
  "nbformat_minor": 0,
  "metadata": {
    "colab": {
      "name": "Programing Exercise.ipynb",
      "provenance": [],
      "collapsed_sections": [],
      "toc_visible": true,
      "include_colab_link": true
    },
    "kernelspec": {
      "name": "python3",
      "display_name": "Python 3"
    }
  },
  "cells": [
    {
      "cell_type": "markdown",
      "metadata": {
        "id": "view-in-github",
        "colab_type": "text"
      },
      "source": [
        "<a href=\"https://colab.research.google.com/github/knazran/python-for-analytics/blob/master/Programing_Exercise.ipynb\" target=\"_parent\"><img src=\"https://colab.research.google.com/assets/colab-badge.svg\" alt=\"Open In Colab\"/></a>"
      ]
    },
    {
      "cell_type": "markdown",
      "metadata": {
        "id": "ltFdc8G1cklg",
        "colab_type": "text"
      },
      "source": [
        "# Welcome to Programming Exercise 1\n",
        "\n",
        "We will be going through fundamental concepts of programming...in Python!\n",
        "\n",
        "The concepts we will be going through:\n",
        "\n",
        "\n",
        "1.   Variables\n",
        "2.   Data types\n",
        "3.   Functions\n",
        "4. Conditionals\n",
        "5. Data Structures\n",
        "6. Loops\n",
        "\n",
        "This environment and its exercises are split into different blocks of code.\n",
        "Press 'Shift + Enter' to execute the block you are in to run the code\n"
      ]
    },
    {
      "cell_type": "markdown",
      "metadata": {
        "id": "iuTZFfRmd721",
        "colab_type": "text"
      },
      "source": [
        "#### BUT FIRST\n",
        "\n",
        "Go on and print your 'Hello World!'"
      ]
    },
    {
      "cell_type": "code",
      "metadata": {
        "id": "KUakILpHeDuz",
        "colab_type": "code",
        "outputId": "c24439a0-8f35-4d24-bc63-aa29c0aa4bd8",
        "colab": {
          "base_uri": "https://localhost:8080/",
          "height": 34
        }
      },
      "source": [
        "print(\"Hello World\")"
      ],
      "execution_count": 0,
      "outputs": [
        {
          "output_type": "stream",
          "text": [
            "Hello World\n"
          ],
          "name": "stdout"
        }
      ]
    },
    {
      "cell_type": "code",
      "metadata": {
        "id": "S31LpG6TlOaR",
        "colab_type": "code",
        "colab": {}
      },
      "source": [
        "# Try printing your own message\n",
        "print(\"My message here\")"
      ],
      "execution_count": 0,
      "outputs": []
    },
    {
      "cell_type": "markdown",
      "metadata": {
        "id": "IrKbbHrbdDFk",
        "colab_type": "text"
      },
      "source": [
        "# Variables - The name of things\n",
        "\n",
        "A variable is a small box to contain a value. This value can be a number, a character, or a string. But it is a basic box.\n",
        "\n",
        "To create and assign variables in Python, "
      ]
    },
    {
      "cell_type": "code",
      "metadata": {
        "id": "CTbRKIxGlpuN",
        "colab_type": "code",
        "colab": {}
      },
      "source": [
        "x = 10 # Variable x is a number 10\n",
        "y = 'a' # Variable y is a character 'a'\n",
        "thisIsAVariableToo = 'Simple right?' # Variable thisIsAVariableToo is a string 'Simple right?'"
      ],
      "execution_count": 0,
      "outputs": []
    },
    {
      "cell_type": "code",
      "metadata": {
        "id": "6pOU7Kdrl-Ai",
        "colab_type": "code",
        "outputId": "9847c4ad-b602-4f6f-acc0-260dbb8b6ce5",
        "colab": {
          "base_uri": "https://localhost:8080/",
          "height": 34
        }
      },
      "source": [
        "# printing 'x' will show the number 10\n",
        "x = 10 # Variable x is a number 10\n",
        "print(x)"
      ],
      "execution_count": 0,
      "outputs": [
        {
          "output_type": "stream",
          "text": [
            "10\n"
          ],
          "name": "stdout"
        }
      ]
    },
    {
      "cell_type": "markdown",
      "metadata": {
        "id": "2MDSduoumOg8",
        "colab_type": "text"
      },
      "source": [
        "\n",
        "Variables can be passed around and reassigned."
      ]
    },
    {
      "cell_type": "code",
      "metadata": {
        "id": "VkBIRnDgmNMn",
        "colab_type": "code",
        "outputId": "bad05894-8152-4824-be6f-ce380818d72c",
        "colab": {
          "base_uri": "https://localhost:8080/",
          "height": 51
        }
      },
      "source": [
        "x = 10 # Set x to be 10\n",
        "y = x # Set x to be y\n",
        "print(y) # y is 10!\n",
        "\n",
        "x = 2020 # reassign x to be 2020\n",
        "print(x) # x is 2020!"
      ],
      "execution_count": 0,
      "outputs": [
        {
          "output_type": "stream",
          "text": [
            "10\n",
            "2020\n"
          ],
          "name": "stdout"
        }
      ]
    },
    {
      "cell_type": "markdown",
      "metadata": {
        "id": "UQF9MHNLnUz2",
        "colab_type": "text"
      },
      "source": [
        "Note: variable names in python CAN NOT have spaces or dashes\n",
        "\n",
        "Use underscores, `like_this` or camel case, `likeThis` for long variable names"
      ]
    },
    {
      "cell_type": "markdown",
      "metadata": {
        "id": "P46sMobBmxEZ",
        "colab_type": "text"
      },
      "source": [
        "### Input and Output\n",
        "\n",
        "So far, we know how to output a variable using 'print'\n",
        "How do we get a value into a variable?\n",
        "\n",
        "We use `input()`\n",
        "\n",
        "Trying running the block below and typing your input in"
      ]
    },
    {
      "cell_type": "code",
      "metadata": {
        "id": "_r1GnINcm_i5",
        "colab_type": "code",
        "outputId": "4e2f5871-b7ed-47b7-f9dc-0d7439a11cb8",
        "colab": {
          "base_uri": "https://localhost:8080/",
          "height": 51
        }
      },
      "source": [
        "input()"
      ],
      "execution_count": 0,
      "outputs": [
        {
          "output_type": "stream",
          "text": [
            "Test\n"
          ],
          "name": "stdout"
        },
        {
          "output_type": "execute_result",
          "data": {
            "text/plain": [
              "'Test'"
            ]
          },
          "metadata": {
            "tags": []
          },
          "execution_count": 5
        }
      ]
    },
    {
      "cell_type": "markdown",
      "metadata": {
        "id": "K7r0JhkInLC6",
        "colab_type": "text"
      },
      "source": [
        "We can use `input()` and pass the value to a variable"
      ]
    },
    {
      "cell_type": "code",
      "metadata": {
        "id": "0jUkISHNnPOS",
        "colab_type": "code",
        "outputId": "ab03b8f2-633e-4ca1-b6cc-c49ccf284ead",
        "colab": {
          "base_uri": "https://localhost:8080/",
          "height": 68
        }
      },
      "source": [
        "our_value = input()\n",
        "print(\"This is {}\".format(our_value)) # Don't worry if you don't understand this"
      ],
      "execution_count": 0,
      "outputs": [
        {
          "output_type": "stream",
          "text": [
            "asd\n",
            "wewq\n",
            "This is asd\n"
          ],
          "name": "stdout"
        }
      ]
    },
    {
      "cell_type": "markdown",
      "metadata": {
        "id": "YTzkjBrGo5XP",
        "colab_type": "text"
      },
      "source": [
        "### Exercise 1\n",
        "\n",
        "\n",
        "\n",
        "1.   Create a variable `input_x` which asks for user input\n",
        "2.   Print out `input_x`\n",
        "3. Assign `input_x` to `same_input`\n"
      ]
    },
    {
      "cell_type": "code",
      "metadata": {
        "id": "Ecm5cYIVp1Qv",
        "colab_type": "code",
        "colab": {}
      },
      "source": [
        "# YOUR CODE STARTS HERE \n",
        "\n",
        "print(\"same_input is also {}!\".format(same_input))"
      ],
      "execution_count": 0,
      "outputs": []
    },
    {
      "cell_type": "markdown",
      "metadata": {
        "id": "x951cdImlXia",
        "colab_type": "text"
      },
      "source": [
        "# Data type - The Characteristic of Things\n",
        "\n",
        "Data type defines the characteristics of a value. A number has different characteristic and nature than a letter.\n",
        "\n",
        "Common data types:\n",
        "\n",
        "\n",
        "1.   Integers (int)\n",
        "2.   General numbers, with decimals (float)\n",
        "3. Words, letters (string)\n",
        "\n",
        "Every variable has a data type. \n",
        "\n",
        "To inspect a variable's data type, use `type(x)` where x is your variable\n",
        "\n",
        "\n"
      ]
    },
    {
      "cell_type": "code",
      "metadata": {
        "id": "e2MxGng3cOW0",
        "colab_type": "code",
        "outputId": "0613702e-ba36-42c6-9601-47828dd4e1a9",
        "colab": {
          "base_uri": "https://localhost:8080/",
          "height": 34
        }
      },
      "source": [
        "x = \"Hello world\"\n",
        "print(type(x)) # Should show 'str'"
      ],
      "execution_count": 0,
      "outputs": [
        {
          "output_type": "stream",
          "text": [
            "<class 'str'>\n"
          ],
          "name": "stdout"
        }
      ]
    },
    {
      "cell_type": "code",
      "metadata": {
        "id": "Mv0VxIONqpmS",
        "colab_type": "code",
        "outputId": "6591aa80-9b5b-4a0b-e73c-51a4aa195809",
        "colab": {
          "base_uri": "https://localhost:8080/",
          "height": 34
        }
      },
      "source": [
        "y = 10\n",
        "print(type(y)) # Should show 'int'"
      ],
      "execution_count": 0,
      "outputs": [
        {
          "output_type": "stream",
          "text": [
            "<class 'int'>\n"
          ],
          "name": "stdout"
        }
      ]
    },
    {
      "cell_type": "code",
      "metadata": {
        "id": "L8uzNcDSq0XU",
        "colab_type": "code",
        "outputId": "00d47503-8b53-4bd3-b8a0-d27f4f49614b",
        "colab": {
          "base_uri": "https://localhost:8080/",
          "height": 34
        }
      },
      "source": [
        "y = 3.5\n",
        "print(type(y)) # Should show 'float'"
      ],
      "execution_count": 0,
      "outputs": [
        {
          "output_type": "stream",
          "text": [
            "<class 'float'>\n"
          ],
          "name": "stdout"
        }
      ]
    },
    {
      "cell_type": "markdown",
      "metadata": {
        "id": "FxHsjVDOq9Tn",
        "colab_type": "text"
      },
      "source": [
        "Behavior differs based on its data type"
      ]
    },
    {
      "cell_type": "code",
      "metadata": {
        "id": "pA9DjD7Vq3qD",
        "colab_type": "code",
        "outputId": "8a313f70-8f10-4e6e-9c03-f34aef16fc30",
        "colab": {
          "base_uri": "https://localhost:8080/",
          "height": 68
        }
      },
      "source": [
        "x1 = 10\n",
        "x2 = 10\n",
        "print(type(x1))\n",
        "print(type(x2))\n",
        "x1 + x2 # Also, common math operations are avaiable in Python too. Variables can interact with these operations"
      ],
      "execution_count": 0,
      "outputs": [
        {
          "output_type": "stream",
          "text": [
            "<class 'int'>\n",
            "<class 'int'>\n"
          ],
          "name": "stdout"
        },
        {
          "output_type": "execute_result",
          "data": {
            "text/plain": [
              "20"
            ]
          },
          "metadata": {
            "tags": []
          },
          "execution_count": 17
        }
      ]
    },
    {
      "cell_type": "code",
      "metadata": {
        "id": "0GK2yqqZrKY-",
        "colab_type": "code",
        "outputId": "62d57fd9-f76e-4ecb-fe06-86b8a7dd74f9",
        "colab": {
          "base_uri": "https://localhost:8080/",
          "height": 68
        }
      },
      "source": [
        "y1 = \"10\" # If you realized, strings have quotes (\"\") around them\n",
        "y2 = \"10\"\n",
        "print(type(y1))\n",
        "print(type(y2))\n",
        "y1 + y2"
      ],
      "execution_count": 0,
      "outputs": [
        {
          "output_type": "stream",
          "text": [
            "<class 'str'>\n",
            "<class 'str'>\n"
          ],
          "name": "stdout"
        },
        {
          "output_type": "execute_result",
          "data": {
            "text/plain": [
              "'1010'"
            ]
          },
          "metadata": {
            "tags": []
          },
          "execution_count": 16
        }
      ]
    },
    {
      "cell_type": "markdown",
      "metadata": {
        "id": "izC5xjRfrgTN",
        "colab_type": "text"
      },
      "source": [
        "# Functions - The Recipes to Do Things\n",
        "\n",
        "Functions are steps to do something which you can associate with a name.\n",
        "\n",
        "Rather than typing:\n",
        "\n",
        "\n",
        "```\n",
        "x = 10\n",
        "y = 20\n",
        "total = x + y\n",
        "print(\"The total is {}\".format(total))\n",
        "```\n",
        "Everytime we want to add and print values\n",
        "\n",
        "We can instead define a function `addAndPrint()` and call it\n",
        "\n",
        "\n"
      ]
    },
    {
      "cell_type": "code",
      "metadata": {
        "id": "0XxR8VX_Yszs",
        "colab_type": "code",
        "outputId": "760dae45-b986-46cd-fa68-1896a7889dd3",
        "colab": {
          "base_uri": "https://localhost:8080/",
          "height": 68
        }
      },
      "source": [
        "def addAndPrint(x, y):\n",
        "  total = x + y\n",
        "  print(\"The total is {}\".format(total))\n",
        "\n",
        "addAndPrint(10, 20)\n",
        "addAndPrint(1000,1231243)\n",
        "addAndPrint(30, 90)"
      ],
      "execution_count": 0,
      "outputs": [
        {
          "output_type": "stream",
          "text": [
            "The total is 30\n",
            "The total is 1232243\n",
            "The total is 120\n"
          ],
          "name": "stdout"
        }
      ]
    },
    {
      "cell_type": "markdown",
      "metadata": {
        "id": "LysLoaUWZBN3",
        "colab_type": "text"
      },
      "source": [
        "Generally, functions:\n",
        "\n",
        "\n",
        "1.   GET an input\n",
        "2.   DO something\n",
        "3.   RETURN an output\n",
        "\n",
        "You need to first define the function first, before using it.\n",
        "\n",
        "\n",
        "```\n",
        "def addAndPrint(x, y):\n",
        "  total = x + y\n",
        "  return total\n",
        "```\n",
        "\n",
        "\n",
        "*   The `def` means that this is a function\n",
        "*   `addAndPrint` refers to the function's name. We use this to call the function in the future.\n",
        "*   `(x, y)` refers to the input parameters. You can define what sort of input your function requires to run. \n",
        "*   `return` will return the following variable as an output of the function\n",
        "\n",
        "To use a function, just call the name of the function with your inputs as such\n",
        "```\n",
        "addAndPrint(10, 20)\n",
        "addAndPrint(1000,1231243)\n",
        "addAndPrint(30, 90)\n",
        "```\n",
        "\n",
        "You have been using functions before! Both `print()` and `input()` are functions!"
      ]
    },
    {
      "cell_type": "markdown",
      "metadata": {
        "id": "q9eyhuV2a1mr",
        "colab_type": "text"
      },
      "source": [
        "### Exercise 2\n",
        "Write the `getValueInPercentage()` function below.\n",
        "\n",
        "To help your coding process, below is the function specification for `getValueInPercentage()`:\n",
        "\n",
        "`getValueInPercentage()` will divide the number of `yes` with the number of `total_respondents` and multiply by 100, then return that value\n",
        "Input Parameter: \n",
        "\n",
        "1.   `yes` - number of respondent answering 'yes'\n",
        "2.   `total_respondents` - total number of respondents\n",
        "\n",
        "Output - a number `percentage`\n",
        "\n"
      ]
    },
    {
      "cell_type": "code",
      "metadata": {
        "id": "YIiXRWJHZA87",
        "colab_type": "code",
        "outputId": "570ceb8a-eb33-4fa3-b56c-d0d1795e5510",
        "colab": {
          "base_uri": "https://localhost:8080/",
          "height": 51
        }
      },
      "source": [
        "# Don't change anything here\n",
        "def surveyResults(yes, total_respondents):\n",
        "  print(\"{} out of {} respondents says 'yes'\".format(yes, total_respondents))\n",
        "  percentage_value = getValueInPercentage(yes, total_respondents)\n",
        "  print(\"That is {}%  of respondents says 'yes'\".format(yes, total_respondents))\n",
        "\n",
        "# Insert your getValueInPercentage() function here\n",
        "\n",
        "# Insert your getValueInPercentage() function here\n",
        "\n",
        "\n",
        "\n",
        "'''\n",
        "Expected Output:\n",
        "20 out of 100 respondents says 'yes'\n",
        "That is 20%  of respondents says 'yes'\n",
        "'''\n",
        "surveyResults(20,100)"
      ],
      "execution_count": 0,
      "outputs": [
        {
          "output_type": "stream",
          "text": [
            "20 out of 100 respondents says 'yes'\n",
            "That is 20%  of respondents says 'yes'\n"
          ],
          "name": "stdout"
        }
      ]
    },
    {
      "cell_type": "markdown",
      "metadata": {
        "id": "wFrupuq1rvIv",
        "colab_type": "text"
      },
      "source": [
        "# Conditionals - The Controller of Things\n",
        "\n",
        "Conditionals control what programs will do based on different situation. Think the ‘If...then...else…’ logical pattern.\n",
        "\n",
        "Conditions are based on comparison and logical operators, common ones with their Python notation:\n",
        "\n",
        "\n",
        "1.   EQUAL TO : '=='\n",
        "2.   NOT EQUAL TO: '!='\n",
        "3.   GREATER THAN: '>'\n",
        "4.   LESS THEN OR EQUAL TO: '<='\n",
        "5.   AND : 'and'\n",
        "6.   OR : 'or'\n",
        "\n",
        "With this, we can control the flow of our program as such:\n",
        "\n",
        "\n",
        "```\n",
        "if (condition):\n",
        "  doSomething()\n",
        "else:\n",
        "  doSomethingElse()\n",
        "```\n",
        "\n",
        "Try out the functions below:\n"
      ]
    },
    {
      "cell_type": "code",
      "metadata": {
        "id": "M8X-_PlkfwkW",
        "colab_type": "code",
        "outputId": "b260a5f4-d14e-43aa-cf8b-57f63e572a57",
        "colab": {
          "base_uri": "https://localhost:8080/",
          "height": 34
        }
      },
      "source": [
        "def isXGreaterThanY(x,y):\n",
        "  if x > y:\n",
        "    print(\"Yes, X is greater than y\")\n",
        "  else:\n",
        "    print(\"No, X is NOT greater than y\")\n",
        "\n",
        "isXGreaterThanY(10, 5)"
      ],
      "execution_count": 0,
      "outputs": [
        {
          "output_type": "stream",
          "text": [
            "Yes, X is greater than y\n"
          ],
          "name": "stdout"
        }
      ]
    },
    {
      "cell_type": "markdown",
      "metadata": {
        "id": "DVzLDsNgh2e2",
        "colab_type": "text"
      },
      "source": [
        "Underneath the hood, the conditional is evaluated to a True/False (aka boolean) value"
      ]
    },
    {
      "cell_type": "code",
      "metadata": {
        "id": "jvr9i3xdhp1v",
        "colab_type": "code",
        "outputId": "b0ca9494-3382-46e6-ebca-2a15ae8597dd",
        "colab": {
          "base_uri": "https://localhost:8080/",
          "height": 34
        }
      },
      "source": [
        "result = (10 > 5)\n",
        "print(result)"
      ],
      "execution_count": 0,
      "outputs": [
        {
          "output_type": "stream",
          "text": [
            "True\n"
          ],
          "name": "stdout"
        }
      ]
    },
    {
      "cell_type": "markdown",
      "metadata": {
        "id": "UyHNOf74f_Hj",
        "colab_type": "text"
      },
      "source": [
        "Chain multiple conditions with 'AND' and 'OR' operators"
      ]
    },
    {
      "cell_type": "code",
      "metadata": {
        "id": "RDNw8qlsgDQi",
        "colab_type": "code",
        "outputId": "c05a77ae-a1f4-4fcf-bd8a-8f052dec55e9",
        "colab": {
          "base_uri": "https://localhost:8080/",
          "height": 34
        }
      },
      "source": [
        "def isXInbetweenYandZ(x, y, z):\n",
        "  if (x > y) and (x < z):\n",
        "    print(\"Yes, X is in between than Y and Z\")\n",
        "  else:\n",
        "    print(\"No,  X is NOT in between than Y and Z\")\n",
        "\n",
        "isXInbetweenYandZ(10, 5, 20)"
      ],
      "execution_count": 0,
      "outputs": [
        {
          "output_type": "stream",
          "text": [
            "No,  X is NOT in between than Y and Z\n"
          ],
          "name": "stdout"
        }
      ]
    },
    {
      "cell_type": "markdown",
      "metadata": {
        "id": "K4WEWJmqkWTA",
        "colab_type": "text"
      },
      "source": [
        "Run through multiple conditions one after the other"
      ]
    },
    {
      "cell_type": "code",
      "metadata": {
        "id": "F4rzesyckamC",
        "colab_type": "code",
        "outputId": "ffb52b1f-e181-4f49-e374-13c7083fb0fb",
        "colab": {
          "base_uri": "https://localhost:8080/",
          "height": 34
        }
      },
      "source": [
        "kupang_food = 'ada'\n",
        "cafe_food = 'ada'\n",
        "\n",
        "if kupang_food == 'ada':\n",
        "  print(\"Makan kat Kupang\")\n",
        "elif cafe_food == 'ada':\n",
        "  print(\"Makan kat Cafe\")\n",
        "else:\n",
        "  print(\"Puasa je la\")"
      ],
      "execution_count": 0,
      "outputs": [
        {
          "output_type": "stream",
          "text": [
            "Puasa je la\n"
          ],
          "name": "stdout"
        }
      ]
    },
    {
      "cell_type": "markdown",
      "metadata": {
        "id": "eAHLV31PZU7T",
        "colab_type": "text"
      },
      "source": [
        "# Exercise 3\n",
        " Write the series of conditionals below.\n",
        "\n",
        " 1. If `rain` then `print(\"Play!\")` else `print(\"Don't play...\")`"
      ]
    },
    {
      "cell_type": "code",
      "metadata": {
        "id": "PFWjmmSFZ2Z1",
        "colab_type": "code",
        "colab": {}
      },
      "source": [
        "# Code here. Use the variables and print statements below\n",
        "rain = False\n",
        "print(\"Play!\")\n",
        "print(\"Don't play...\""
      ],
      "execution_count": 0,
      "outputs": []
    },
    {
      "cell_type": "markdown",
      "metadata": {
        "id": "j_5edYC4Za-z",
        "colab_type": "text"
      },
      "source": [
        "2. If `spending` is more than `salary` then \"Time to cut down spending\" else \"Wew, thank god\""
      ]
    },
    {
      "cell_type": "code",
      "metadata": {
        "id": "KohS3-19a__E",
        "colab_type": "code",
        "colab": {}
      },
      "source": [
        "spending = 4000\n",
        "salary = 3000\n",
        "print(\"Time to cut down spending...\")\n",
        "print(\"Wew, thank god...\""
      ],
      "execution_count": 0,
      "outputs": []
    },
    {
      "cell_type": "markdown",
      "metadata": {
        "id": "XBq5VJcMbJtI",
        "colab_type": "text"
      },
      "source": [
        "3. If the `director_is_present` or `dd_is_present` then \"Proceed\" else \"We will wait\""
      ]
    },
    {
      "cell_type": "code",
      "metadata": {
        "id": "N_yZT3bVbb0g",
        "colab_type": "code",
        "colab": {}
      },
      "source": [
        "director_is_present = True\n",
        "dd_is_present = True\n",
        "print(\"Proceed\")\n",
        "print(\"We will wait\")"
      ],
      "execution_count": 0,
      "outputs": []
    },
    {
      "cell_type": "markdown",
      "metadata": {
        "id": "HQhca5Zjg5lk",
        "colab_type": "text"
      },
      "source": [
        "### Exercise 3\n",
        "\n",
        "Write the function below:"
      ]
    },
    {
      "cell_type": "code",
      "metadata": {
        "id": "B9EnrNNgg_h6",
        "colab_type": "code",
        "colab": {}
      },
      "source": [
        "# Do not change this\n",
        "def checkSeven(number):\n",
        "  if str(number).find('7') != -1:\n",
        "    return True\n",
        "  else:\n",
        "    return False\n",
        "\n",
        "def checkMultipleOfSeven(number):\n",
        "  if number % 7 == 0:\n",
        "    return True\n",
        "  else:\n",
        "    return False\n",
        "\n",
        "\n",
        "def sevenUP(number):\n",
        "  containSeven = checkSeven(number)\n",
        "  multipleOfSeven = checkMultipleOfSeven(number)\n",
        "\n",
        "  # Put start coding here:\n",
        "  "
      ],
      "execution_count": 0,
      "outputs": []
    },
    {
      "cell_type": "code",
      "metadata": {
        "id": "Iaiga7woi4Oz",
        "colab_type": "code",
        "outputId": "88bce672-1521-4022-e32a-9b114c82c494",
        "colab": {
          "base_uri": "https://localhost:8080/",
          "height": 85
        }
      },
      "source": [
        "# Test cases\n",
        "sevenUP(77) # Expected output: SevenUP!\n",
        "sevenUP(12) # Expected output: 12\n",
        "sevenUP(14) # Expected output: Up!\n",
        "sevenUP(17) # Expected output: Seven!"
      ],
      "execution_count": 0,
      "outputs": [
        {
          "output_type": "stream",
          "text": [
            "SevenUP!\n",
            "12\n",
            "Up!\n",
            "Seven!\n"
          ],
          "name": "stdout"
        }
      ]
    },
    {
      "cell_type": "markdown",
      "metadata": {
        "id": "RdnDcW88L8WI",
        "colab_type": "text"
      },
      "source": [
        "# Data Structures"
      ]
    },
    {
      "cell_type": "markdown",
      "metadata": {
        "id": "6ASsdvzdrxI2",
        "colab_type": "text"
      },
      "source": [
        "\n",
        "\n",
        "### Introducing: Lists\n",
        "\n",
        "Lists are a one-dimensional collection of value. Think of it as one column of data in Excel.\n",
        "\n",
        "Lists are very important for analytics as it makes up the building blocks of data structures in analytics.\n",
        "\n",
        "To initialise an empty list:\n",
        "\n",
        "`list = []`\n",
        "\n",
        "To initialise a list with values:\n",
        "\n",
        "`list_with_values = [10, 20, 30, 40]`\n",
        "\n",
        "`list_with_strings = [\"This\", \"is\", \"a\", \"list\"]`\n",
        "\n"
      ]
    },
    {
      "cell_type": "code",
      "metadata": {
        "id": "3A_4vylk_44b",
        "colab_type": "code",
        "outputId": "aecc0ddc-aa7f-4d47-8a5b-7d8aa1f87432",
        "colab": {
          "base_uri": "https://localhost:8080/",
          "height": 34
        }
      },
      "source": [
        "# Try initializing a list called count0to10 here\n",
        "count0to10 = [0,1,2,3,4,5,6,7,8,9,10]\n",
        "print(count0to10)"
      ],
      "execution_count": 0,
      "outputs": [
        {
          "output_type": "stream",
          "text": [
            "[0, 1, 2, 3, 4, 5, 6, 7, 8, 9, 10]\n"
          ],
          "name": "stdout"
        }
      ]
    },
    {
      "cell_type": "markdown",
      "metadata": {
        "id": "K-_Y1JTRAV38",
        "colab_type": "text"
      },
      "source": [
        "List have an index which starts from 0.\n",
        "To access the values in the index, use the bracket notion as such:\n"
      ]
    },
    {
      "cell_type": "code",
      "metadata": {
        "id": "FCsXml7dAj8h",
        "colab_type": "code",
        "outputId": "0e7710c8-8eaa-4c5a-d87f-3c5531365fd4",
        "colab": {
          "base_uri": "https://localhost:8080/",
          "height": 34
        }
      },
      "source": [
        "count0to10[0] # Access the first value of the list. Note that index starts from 0\n",
        "\n",
        "# Try accessing the 9th element of count0to10 list\n"
      ],
      "execution_count": 0,
      "outputs": [
        {
          "output_type": "execute_result",
          "data": {
            "text/plain": [
              "0"
            ]
          },
          "metadata": {
            "tags": []
          },
          "execution_count": 3
        }
      ]
    },
    {
      "cell_type": "markdown",
      "metadata": {
        "id": "rb4E_0zQBCBz",
        "colab_type": "text"
      },
      "source": [
        "Accessing elements beyond the size of the list will try an error (IndexError)"
      ]
    },
    {
      "cell_type": "code",
      "metadata": {
        "id": "4vYiG4uXBHUd",
        "colab_type": "code",
        "outputId": "66384b20-825f-491e-c5f6-fe4eb71afec1",
        "colab": {
          "base_uri": "https://localhost:8080/",
          "height": 164
        }
      },
      "source": [
        "count0to10[11]"
      ],
      "execution_count": 0,
      "outputs": [
        {
          "output_type": "error",
          "ename": "IndexError",
          "evalue": "ignored",
          "traceback": [
            "\u001b[0;31m---------------------------------------------------------------------------\u001b[0m",
            "\u001b[0;31mIndexError\u001b[0m                                Traceback (most recent call last)",
            "\u001b[0;32m<ipython-input-5-09c17b192077>\u001b[0m in \u001b[0;36m<module>\u001b[0;34m()\u001b[0m\n\u001b[0;32m----> 1\u001b[0;31m \u001b[0mcount0to10\u001b[0m\u001b[0;34m[\u001b[0m\u001b[0;36m11\u001b[0m\u001b[0;34m]\u001b[0m\u001b[0;34m\u001b[0m\u001b[0;34m\u001b[0m\u001b[0m\n\u001b[0m",
            "\u001b[0;31mIndexError\u001b[0m: list index out of range"
          ]
        }
      ]
    },
    {
      "cell_type": "markdown",
      "metadata": {
        "id": "QcLJKxYiBNRb",
        "colab_type": "text"
      },
      "source": [
        "To get the size of the list, use the `len()` function.\n",
        "In fact, to get the size of most data structure, use the `len()` function"
      ]
    },
    {
      "cell_type": "code",
      "metadata": {
        "id": "29mYgLfPBaq2",
        "colab_type": "code",
        "outputId": "7feaa2cb-704f-464f-972e-a936d0045bd3",
        "colab": {
          "base_uri": "https://localhost:8080/",
          "height": 34
        }
      },
      "source": [
        "len(count0to10)"
      ],
      "execution_count": 0,
      "outputs": [
        {
          "output_type": "execute_result",
          "data": {
            "text/plain": [
              "11"
            ]
          },
          "metadata": {
            "tags": []
          },
          "execution_count": 6
        }
      ]
    },
    {
      "cell_type": "markdown",
      "metadata": {
        "id": "87s_V7NzBybw",
        "colab_type": "text"
      },
      "source": [
        "List supports various functions to:\n",
        "\n",
        "\n",
        "1.   Append a value to the list - `append()`\n",
        "2.   Remove a value from the list by its index - `pop()`\n",
        "3.   And others. Check out here for more: https://developers.google.com/edu/python/lists\n"
      ]
    },
    {
      "cell_type": "code",
      "metadata": {
        "id": "_wWnyuREBeuw",
        "colab_type": "code",
        "colab": {}
      },
      "source": [
        "# Add the number '11' into the list\n",
        "\n",
        "# Then remove the number 11"
      ],
      "execution_count": 0,
      "outputs": []
    },
    {
      "cell_type": "markdown",
      "metadata": {
        "id": "mu--Ue9aX20H",
        "colab_type": "text"
      },
      "source": [
        "List can be nested.\n",
        "\n",
        "You can have a list of list\n",
        "\n",
        "Or a list of list of list"
      ]
    },
    {
      "cell_type": "code",
      "metadata": {
        "id": "bru8Ay5XX7xd",
        "colab_type": "code",
        "colab": {
          "base_uri": "https://localhost:8080/",
          "height": 34
        },
        "outputId": "8376b13c-2f43-4757-d036-d39c79d13b95"
      },
      "source": [
        "list_of_list = [[1,1],[2,2],[3,3]]\n",
        "list_of_list_of_list = [list_of_list, list_of_list, list_of_list]\n",
        "print(list_of_list_of_list)"
      ],
      "execution_count": 2,
      "outputs": [
        {
          "output_type": "stream",
          "text": [
            "[[[1, 1], [2, 2], [3, 3]], [[1, 1], [2, 2], [3, 3]], [[1, 1], [2, 2], [3, 3]]]\n"
          ],
          "name": "stdout"
        }
      ]
    },
    {
      "cell_type": "markdown",
      "metadata": {
        "id": "ibz8fXa5L0iR",
        "colab_type": "text"
      },
      "source": [
        "### Why use a list?\n",
        "\n",
        "List are important because they are a collection of values. \n",
        "\n",
        "What other things are a collection of values?\n",
        "\n",
        "A timeseries.\n",
        "\n",
        "A column of sales data.\n",
        "\n",
        "A sequence of geolocation mapping data."
      ]
    },
    {
      "cell_type": "markdown",
      "metadata": {
        "id": "xbzq-z65FOSQ",
        "colab_type": "text"
      },
      "source": [
        "### Introducing: Dictionaries\n",
        "\n",
        "Dictionaries are collections of key-value pairs. Mainly use it to store reference of a specific data. Similar to the real-world dictionary, the key (the word in the dictionary) has to be unique while the value (the meaning, reference of the word) can be, well, anything.\n",
        "\n",
        "Dictionaries are usually identified by their curly braces, `{}`\n",
        "\n",
        "To initialise an empty dictionary,\n",
        "\n",
        "\n",
        "```\n",
        "a_dictionary = {}\n",
        "```\n",
        "\n",
        "A dictionary with values can be initialised by the 'key:value' pattern. (Note the colon in between!)\n",
        "\n",
        "```\n",
        "a_dictionary_with_values = {'a':1, 'b':2}\n",
        "```\n"
      ]
    },
    {
      "cell_type": "markdown",
      "metadata": {
        "id": "xcdet9UgLCp6",
        "colab_type": "text"
      },
      "source": [
        "To access the value in the dictionary, you have to input the key."
      ]
    },
    {
      "cell_type": "code",
      "metadata": {
        "id": "l_hhhyjzLJWO",
        "colab_type": "code",
        "colab": {
          "base_uri": "https://localhost:8080/",
          "height": 34
        },
        "outputId": "39a54ced-2a79-41c6-c2dc-ddc006e7acd5"
      },
      "source": [
        "a_dictionary_with_values = {'a':1, 'b':2}\n",
        "\n",
        "# We want to access the value '2'\n",
        "print(a_dictionary_with_values['b']) # Note the square bracket"
      ],
      "execution_count": 1,
      "outputs": [
        {
          "output_type": "stream",
          "text": [
            "2\n"
          ],
          "name": "stdout"
        }
      ]
    },
    {
      "cell_type": "markdown",
      "metadata": {
        "id": "l0MmTnhpLXZC",
        "colab_type": "text"
      },
      "source": [
        "Dictionaries are not indexed. So a list-style accessing doesn't really work...\n",
        "\n",
        "This is because you can only use the square brackets to find a value based on a key\n",
        "\n",
        "If the key doesn't exist, you will get an error."
      ]
    },
    {
      "cell_type": "code",
      "metadata": {
        "id": "MRlK_JRPLWkP",
        "colab_type": "code",
        "colab": {
          "base_uri": "https://localhost:8080/",
          "height": 164
        },
        "outputId": "b431b740-391a-46c5-bfab-2ead1f0e03a6"
      },
      "source": [
        "a_dictionary_with_values[0]"
      ],
      "execution_count": 2,
      "outputs": [
        {
          "output_type": "error",
          "ename": "KeyError",
          "evalue": "ignored",
          "traceback": [
            "\u001b[0;31m---------------------------------------------------------------------------\u001b[0m",
            "\u001b[0;31mKeyError\u001b[0m                                  Traceback (most recent call last)",
            "\u001b[0;32m<ipython-input-2-dea564a33623>\u001b[0m in \u001b[0;36m<module>\u001b[0;34m()\u001b[0m\n\u001b[0;32m----> 1\u001b[0;31m \u001b[0ma_dictionary_with_values\u001b[0m\u001b[0;34m[\u001b[0m\u001b[0;36m0\u001b[0m\u001b[0;34m]\u001b[0m\u001b[0;34m\u001b[0m\u001b[0;34m\u001b[0m\u001b[0m\n\u001b[0m",
            "\u001b[0;31mKeyError\u001b[0m: 0"
          ]
        }
      ]
    },
    {
      "cell_type": "markdown",
      "metadata": {
        "id": "4YX5a0giLygq",
        "colab_type": "text"
      },
      "source": [
        "### Why use a dictionary?\n",
        "\n",
        "Dictionaries are important because they are allow storing of relationship and mapping between key and value. \n",
        "\n",
        "This would be helpful for:\n",
        "\n",
        "1.   Mapping of acronyms to their full name\n",
        "2.   Mapping of food combo numbers to their culinary components\n",
        "3.   Mapping district names to a state.\n",
        "\n"
      ]
    },
    {
      "cell_type": "markdown",
      "metadata": {
        "id": "NdPeY1eKrzZO",
        "colab_type": "text"
      },
      "source": [
        "# Loops\n",
        "\n",
        "Loops allow your program to repeat until a certain condition is meet (or broken). This allows the automation of repeatative tasks. Yay for loops.\n",
        "\n",
        "Loops usually comes in two different flavours\n",
        "\n",
        "\n",
        "1.   The `for` loop\n",
        "2.   The `while` loop\n",
        "\n"
      ]
    },
    {
      "cell_type": "markdown",
      "metadata": {
        "id": "V_Eou9rlM1yZ",
        "colab_type": "text"
      },
      "source": [
        "### While loop\n",
        "\n",
        "The easier loop to understand is the while loop.\n",
        "\n",
        "While loop will repeat its instructions as long as its conditional remains to be `True`\n",
        "\n",
        "```\n",
        "# A simple while loop\n",
        "\n",
        "while is_working == True:\n",
        "  doWork()\n",
        "```\n",
        "\n",
        "**BUT**\n",
        "In the loop above, the program will repeat the `doWork()` function until the end of time.\n",
        "\n",
        "This is because `is_working` is equal to `True` and will be always equal to `True`. To fix this, `doWork()` should include a line to set `is_working == False`\n",
        "\n",
        "**DO REMEMBER**\n",
        "To write a line to break the conditional in a while loop. Else it will go on forever.\n"
      ]
    },
    {
      "cell_type": "markdown",
      "metadata": {
        "id": "m-cjc3WCOVYH",
        "colab_type": "text"
      },
      "source": [
        ""
      ]
    },
    {
      "cell_type": "code",
      "metadata": {
        "id": "mwgteioIrde2",
        "colab_type": "code",
        "colab": {
          "base_uri": "https://localhost:8080/",
          "height": 187
        },
        "outputId": "c913d453-230f-4bf1-bde7-3db8fd04dc8f"
      },
      "source": [
        "# Simple While loop\n",
        "\n",
        "count = 0 # This is our 'break' for the while loop\n",
        "while count < 10:\n",
        "  print(count)\n",
        "  count += 1 # Make sure the 'break' is closer and closer to stopping the loop\n",
        "\n"
      ],
      "execution_count": 3,
      "outputs": [
        {
          "output_type": "stream",
          "text": [
            "0\n",
            "1\n",
            "2\n",
            "3\n",
            "4\n",
            "5\n",
            "6\n",
            "7\n",
            "8\n",
            "9\n"
          ],
          "name": "stdout"
        }
      ]
    },
    {
      "cell_type": "markdown",
      "metadata": {
        "id": "1BbKWvI0Ot6T",
        "colab_type": "text"
      },
      "source": [
        "### Why and Where to use a while loop?\n",
        "\n",
        "Use while loop in a situation where you expect to program to continously run or repeat until otherwise stated.\n",
        "\n",
        "A good example would be a food ordering system. It will loop back to the beginning once completed.\n",
        "\n",
        "\n"
      ]
    },
    {
      "cell_type": "markdown",
      "metadata": {
        "id": "3uOgk3RrPmWW",
        "colab_type": "text"
      },
      "source": [
        "### For loop\n",
        "\n",
        "For loop is a loop which loops for a specific number of times, or through a collection of inputs.\n",
        "\n",
        "For loop will repeat its instructions as long as it has not reach the end of its list of values.\n",
        "\n",
        "```\n",
        "# A simple for loop\n",
        "\n",
        "for i in range(1,10):\n",
        "  print(i)\n",
        "```\n",
        "\n",
        "`i` refers to a single value in the list (in this example, the list is range(1,10)\n",
        "\n"
      ]
    },
    {
      "cell_type": "code",
      "metadata": {
        "id": "hh18sNnUOmQS",
        "colab_type": "code",
        "colab": {
          "base_uri": "https://localhost:8080/",
          "height": 170
        },
        "outputId": "cfb3aa6b-a6a3-41d2-e968-d021fb8d7a6b"
      },
      "source": [
        "# a simple for loop\n",
        "for i in range(1,10):\n",
        "  print(i)"
      ],
      "execution_count": 4,
      "outputs": [
        {
          "output_type": "stream",
          "text": [
            "1\n",
            "2\n",
            "3\n",
            "4\n",
            "5\n",
            "6\n",
            "7\n",
            "8\n",
            "9\n"
          ],
          "name": "stdout"
        }
      ]
    },
    {
      "cell_type": "code",
      "metadata": {
        "id": "Anxrr6LJQYnY",
        "colab_type": "code",
        "colab": {
          "base_uri": "https://localhost:8080/",
          "height": 204
        },
        "outputId": "47f5da78-32b4-4bd1-db65-7508c1d8124a"
      },
      "source": [
        "# For loop can also loop through a list of values\n",
        "count0to10 = [0,1,2,3,4,5,6,7,8,9,10]\n",
        "\n",
        "for number in count0to10:\n",
        "  print(\"Number is {}\".format(number))"
      ],
      "execution_count": 5,
      "outputs": [
        {
          "output_type": "stream",
          "text": [
            "Number is 0\n",
            "Number is 1\n",
            "Number is 2\n",
            "Number is 3\n",
            "Number is 4\n",
            "Number is 5\n",
            "Number is 6\n",
            "Number is 7\n",
            "Number is 8\n",
            "Number is 9\n",
            "Number is 10\n"
          ],
          "name": "stdout"
        }
      ]
    },
    {
      "cell_type": "markdown",
      "metadata": {
        "id": "R_ILFvfKRNb4",
        "colab_type": "text"
      },
      "source": [
        "Works for lists of other data types as well"
      ]
    },
    {
      "cell_type": "code",
      "metadata": {
        "id": "n1VTtbZaRRnL",
        "colab_type": "code",
        "colab": {
          "base_uri": "https://localhost:8080/",
          "height": 68
        },
        "outputId": "905f273b-522e-44cf-f5e0-5b211e2b3453"
      },
      "source": [
        "list_of_cars = [\"Myvi\", \"Saga\", \"X70\"]\n",
        "\n",
        "for car in list_of_cars:\n",
        "  print(\"Car is {}\".format(car))"
      ],
      "execution_count": 6,
      "outputs": [
        {
          "output_type": "stream",
          "text": [
            "Car is Myvi\n",
            "Car is Saga\n",
            "Car is X70\n"
          ],
          "name": "stdout"
        }
      ]
    },
    {
      "cell_type": "markdown",
      "metadata": {
        "id": "CfKCp2L-RFrp",
        "colab_type": "text"
      },
      "source": [
        "### Why and Where to use a while loop?\n",
        "\n",
        "Use for loop in a situation where you know how many times you need to repeat commands as well as to iterate through list of values\n",
        "\n",
        "A good example would be a printing a every item in the food menu.\n",
        "\n",
        "\n"
      ]
    },
    {
      "cell_type": "markdown",
      "metadata": {
        "id": "MisoOd7pRl6Y",
        "colab_type": "text"
      },
      "source": [
        "# Exercise 4\n",
        "\n",
        "Create a `list` of states in Malaysia.\n",
        "\n",
        "For every state, print out \"The state of {state} is great!\"\n",
        "\n",
        "Write a `for loop` implementation first. Then write a `while loop` implementation."
      ]
    },
    {
      "cell_type": "code",
      "metadata": {
        "id": "jzWrQX1CSVb-",
        "colab_type": "code",
        "colab": {}
      },
      "source": [
        "# Start here:\n",
        "states_in_malaysia = []\n",
        "\n",
        "# For loop\n",
        "\n",
        "# While loop\n",
        "# Hint: Know how many states are there to build your 'brake'"
      ],
      "execution_count": 0,
      "outputs": []
    },
    {
      "cell_type": "markdown",
      "metadata": {
        "id": "KiWxRGb7VYAh",
        "colab_type": "text"
      },
      "source": [
        "# Exercise 5\n",
        "\n",
        "Create a `dictionary` of states in Malaysia to their most famous food.\n",
        "\n",
        "For every state, print out \"The famous food of {state} is {food}!\"\n",
        "\n",
        "Write a `for loop` implementation first. Then write a `while loop` implementation.\n",
        "\n"
      ]
    },
    {
      "cell_type": "markdown",
      "metadata": {
        "id": "hm1KeOlMW_Q5",
        "colab_type": "text"
      },
      "source": [
        "**Challenge Question**\n",
        "\n",
        "Create your dictionary such that a state can have multiple famous foods. However, it should still print out each food separately"
      ]
    },
    {
      "cell_type": "code",
      "metadata": {
        "id": "fGxqCURaU7EH",
        "colab_type": "code",
        "colab": {}
      },
      "source": [
        "# Start here:\n",
        "states_in_malaysia = []\n",
        "famous_food_in_states = {}\n",
        "\n",
        "# For loop\n",
        "\n",
        "# While loop\n",
        "# Hint: Know how many states are there to build your 'brake'"
      ],
      "execution_count": 0,
      "outputs": []
    }
  ]
}